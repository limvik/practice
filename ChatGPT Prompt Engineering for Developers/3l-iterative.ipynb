{
 "cells": [
  {
   "attachments": {},
   "cell_type": "markdown",
   "metadata": {},
   "source": [
    "# Iterative Prompt Develelopment\n",
    "In this lesson, you'll iteratively analyze and refine your prompts to generate marketing copy from a product fact sheet.\n",
    "\n",
    "이 단원에서는 제품 팩트 시트에서 마케팅 카피를 생성하기 위해 프롬프트를 반복적으로 분석하고 개선합니다.\n",
    "\n",
    "---\n",
    "\n",
    "When I've been building applications with large language models, I don't think I've ever come to the prompt that I ended up using in the final application on my first attempt.\n",
    "\n",
    "대규모 언어 모델을 사용하여 애플리케이션을 구축해 왔지만, 첫 번째 시도에서 최종 애플리케이션에 사용했던 프롬프트에 도달한 적은 없었던 것 같습니다. \n",
    "\n",
    "And this isn't what matters. As long as you have a good process to iteratively make your prompt better, then you'll be able to come to something that works well for the task you want to achieve. \n",
    "\n",
    "그리고 이것이 중요한 것은 아닙니다. 프롬프트를 반복적으로 개선할 수 있는 좋은 프로세스가 있다면 달성하려는 작업에 적합한 프롬프트를 만들 수 있습니다. \n",
    "\n",
    "You may have heard me say that when I train a machine learning model, it almost never works the first time. In fact, I'm very surprised if the first model I train works.\n",
    "\n",
    "머신러닝 모델을 학습시킬 때 처음에 제대로 작동하는 경우는 거의 없다고 말씀드린 적이 있을 것입니다. 사실 저는 처음 학습시킨 모델이 작동하면 매우 놀랍니다.\n",
    "\n",
    "I think we're prompting, the odds of it working the first time is maybe a little bit higher, but as he's saying, it doesn't matter if the first prompt works.\n",
    "\n",
    "첫 번째 프롬프트가 작동할 확률이 조금 더 높다고 생각하지만, 그가 말했듯이 첫 번째 프롬프트가 작동하는지는 중요하지 않습니다.\n",
    "\n",
    "What matters most is the process for getting to the prompts that work for your application. \n",
    "\n",
    "가장 중요한 것은 애플리케이션에 적합한 프롬프트에 도달하기 위한 프로세스입니다. \n",
    "\n",
    "So with that, let's jump into the code and let me show you some frameworks to think about how to iteratively develop a prompt. Alright, so if you've taken a machine learning class with me, before you may have seen me use a diagram saying that with machine learning development, you often have an idea and then implement it.\n",
    "\n",
    "이제 코드에 들어가서 프롬프트를 반복적으로 개발하는 방법에 대해 생각해 볼 수 있는 몇 가지 프레임워크를 보여드리겠습니다. 저와 함께 머신 러닝 수업을 들으셨다면 이전에 제가 다이어그램을 사용하여 머신 러닝 개발에서는 아이디어를 얻은 다음 구현하는 경우가 많다는 것을 보셨을 것입니다.\n",
    "\n",
    "So write the code, get the data, train your model, and that gives you an experimental result. And you can then look at that output, maybe do error analysis, figure out where it's working or not working, and then maybe even change your idea of exactly what problem you want to solve or how to approach it, and then change your implementation and run another experiment and so on, and iterate over and over to get to an effective machine learning model.\n",
    "\n",
    "코드를 작성하고 데이터를 가져와서 모델을 학습시키면 실험 결과가 나옵니다. 그런 다음 이 결과를 보고 오류 분석을 수행하여 작동하는 부분과 작동하지 않는 부분을 파악한 다음, 해결하려는 문제나 접근 방법에 대한 아이디어를 변경하고 구현을 변경하고 다른 실험을 실행하는 등 효과적인 머신 러닝 모델을 얻기 위해 반복해서 반복할 수 있습니다.\n",
    "\n",
    "If you're not familiar with machine learning and haven't seen this diagram before, don't worry about it, not that important for the rest of this presentation. But when you are writing prompts to develop an application using an OOM, the process can be quite similar where you have an idea for what you want to do, the task you want to complete, and you can then take a first attempt at writing a prompt that hopefully is clear and specific and maybe, if appropriate, gives the system time to think, and then you can run it and see what result you get. \n",
    "\n",
    "머신 러닝에 익숙하지 않고 이 다이어그램을 본 적이 없더라도 이 프레젠테이션의 나머지 부분에서 그다지 중요하지 않으니 걱정하지 마세요. 그러나 OOM을 사용하여 애플리케이션을 개발하기 위해 프롬프트를 작성할 때는 수행하려는 작업과 완료하려는 작업에 대한 아이디어가 있는 경우, 명확하고 구체적이며 적절한 경우 시스템이 생각할 시간을 줄 수 있는 프롬프트를 먼저 작성한 다음 실행하여 어떤 결과가 나오는지 확인할 수 있는 프로세스가 매우 유사할 수 있습니다. \n",
    "\n",
    "And if it doesn't work well enough the first time, then the iterative process of figuring out why the instructions, for example, were not clear enough or why it didn't give the algorithm enough time to think, allows you to refine the idea, refine the prompt, and so on, and to go around this loop multiple times until you end up with a prompt that works for your application.\n",
    "\n",
    "처음에 충분히 잘 작동하지 않는 경우, 예를 들어 지침이 충분히 명확하지 않은 이유나 알고리즘이 생각할 시간을 충분히 주지 않은 이유를 파악하는 반복적인 프로세스를 통해 아이디어를 다듬고 프롬프트를 다듬는 등의 작업을 반복하여 애플리케이션에 적합한 프롬프트가 나올 때까지 여러 번 반복할 수 있습니다.\n",
    "\n",
    "This too is why I personally have not paid as much attention to the internet articles that say 30 perfect prompts, because I think there probably isn't a perfect prompt for everything under the sun.\n",
    "\n",
    "이것이 바로 제가 개인적으로 30개의 완벽한 프롬프트가 있다는 인터넷 기사에 큰 관심을 기울이지 않는 이유이기도 한데, 태양 아래 모든 것에 완벽한 프롬프트는 없을 것이라고 생각하기 때문입니다.\n",
    "\n",
    "It's more important that you have a process for developing a good prompt for your specific application. So let's look at an example together in code. I have here the starter code that you saw in the previous videos, have been import open AI and import OS.\n",
    "\n",
    "특정 애플리케이션에 적합한 프롬프트를 개발하기 위한 프로세스를 갖추는 것이 더 중요합니다. 그럼 코드 예제를 함께 살펴보겠습니다. 여기에는 이전 동영상에서 보셨던 시작 코드가 있고, 오픈 AI 임포트와 OS 임포트가 있습니다.\n",
    "\n",
    "---\n",
    "\n",
    "\n",
    "## Setup\n",
    "\n",
    "Here we get the open AI API key, and this is the same helper function that you saw as last time.\n",
    "\n",
    "여기에서 오픈 AI API 키를 가져오고, 이것은 지난번과 동일한 헬퍼 함수입니다."
   ]
  },
  {
   "cell_type": "code",
   "execution_count": null,
   "metadata": {
    "vscode": {
     "languageId": "plaintext"
    }
   },
   "outputs": [],
   "source": [
    "import openai\n",
    "import os\n",
    "\n",
    "from dotenv import load_dotenv, find_dotenv\n",
    "_ = load_dotenv(find_dotenv()) # read local .env file\n",
    "\n",
    "openai.api_key  = os.getenv('OPENAI_API_KEY')"
   ]
  },
  {
   "cell_type": "code",
   "execution_count": null,
   "metadata": {
    "vscode": {
     "languageId": "plaintext"
    }
   },
   "outputs": [],
   "source": [
    "def get_completion(prompt, model=\"gpt-3.5-turbo\"):\n",
    "    messages = [{\"role\": \"user\", \"content\": prompt}]\n",
    "    response = openai.ChatCompletion.create(\n",
    "        model=model,\n",
    "        messages=messages,\n",
    "        temperature=0, # this is the degree of randomness of the model's output\n",
    "    )\n",
    "    return response.choices[0].message[\"content\"]"
   ]
  },
  {
   "attachments": {},
   "cell_type": "markdown",
   "metadata": {},
   "source": [
    "## Generate a marketing product description from a product fact sheet\n",
    "\n",
    "And I'm going to use as the running example in this video the task of summarizing a fact sheet for a chair. So let me just paste that in here. Feel free to pause the video and read this more carefully in the notebook on the left if you want. But here's a fact sheet for a chair with a description saying it's part of a beautiful family of mid-century inspired, and so on. Talks about the construction, has the dimensions, options for the chair, materials, and so on. Comes from Italy. \n",
    "\n",
    "이 동영상에서는 의자에 대한 팩트 시트를 요약하는 작업을 실행 예제로 사용하겠습니다. 여기에 붙여 넣겠습니다. 원하시면 비디오를 일시 중지하고 왼쪽의 노트북에서 이 내용을 더 자세히 읽어보세요. 하지만 여기 의자에 대한 팩트 시트에는 이 의자가 세기 중반에 영감을 받은 아름다운 제품군의 일부라는 설명이 나와 있습니다. 구조에 대한 설명, 치수, 의자 옵션, 재료 등이 나와 있습니다. 이탈리아에서 온 제품입니다. \n",
    "\n",
    "So let's say you want to take this fact sheet and help a marketing team write a description for an online retail website. as follows, and I'll just... and I'll just paste this in, so my prompt here says your task is to help a marketing team create the description for retail website or product based on a techno fact sheet, write a product description, and so on. Right? So this is my first attempt to explain the task to the large-language model. \n",
    "\n",
    "이 팩트 시트를 가지고 마케팅 팀이 온라인 소매 웹사이트에 대한 설명을 작성하는 것을 돕고 싶다고 가정해 보겠습니다. 다음과 같이... 그냥 붙여 넣을 테니 여기에는 마케팅 팀이 테크노 팩트 시트를 기반으로 소매 웹 사이트 또는 제품에 대한 설명을 작성하고 제품 설명을 작성하는 등의 작업을 돕는 것이 임무라고 표시되어 있습니다. 그렇죠? 그래서 저는 이 과제를 대형 언어 모델에 설명하는 첫 번째 시도입니다. \n",
    "\n",
    "So let me hit shift enter, and this takes a few seconds to run, and we get this result.\n",
    "\n",
    "시프트 엔터를 누르면 실행하는 데 몇 초가 걸리고 이 결과가 나옵니다."
   ]
  },
  {
   "cell_type": "code",
   "execution_count": null,
   "metadata": {
    "vscode": {
     "languageId": "plaintext"
    }
   },
   "outputs": [],
   "source": [
    "fact_sheet_chair = \"\"\"\n",
    "OVERVIEW\n",
    "- Part of a beautiful family of mid-century inspired office furniture, \n",
    "including filing cabinets, desks, bookcases, meeting tables, and more.\n",
    "- Several options of shell color and base finishes.\n",
    "- Available with plastic back and front upholstery (SWC-100) \n",
    "or full upholstery (SWC-110) in 10 fabric and 6 leather options.\n",
    "- Base finish options are: stainless steel, matte black, \n",
    "gloss white, or chrome.\n",
    "- Chair is available with or without armrests.\n",
    "- Suitable for home or business settings.\n",
    "- Qualified for contract use.\n",
    "\n",
    "CONSTRUCTION\n",
    "- 5-wheel plastic coated aluminum base.\n",
    "- Pneumatic chair adjust for easy raise/lower action.\n",
    "\n",
    "DIMENSIONS\n",
    "- WIDTH 53 CM | 20.87”\n",
    "- DEPTH 51 CM | 20.08”\n",
    "- HEIGHT 80 CM | 31.50”\n",
    "- SEAT HEIGHT 44 CM | 17.32”\n",
    "- SEAT DEPTH 41 CM | 16.14”\n",
    "\n",
    "OPTIONS\n",
    "- Soft or hard-floor caster options.\n",
    "- Two choices of seat foam densities: \n",
    " medium (1.8 lb/ft3) or high (2.8 lb/ft3)\n",
    "- Armless or 8 position PU armrests \n",
    "\n",
    "MATERIALS\n",
    "SHELL BASE GLIDER\n",
    "- Cast Aluminum with modified nylon PA6/PA66 coating.\n",
    "- Shell thickness: 10 mm.\n",
    "SEAT\n",
    "- HD36 foam\n",
    "\n",
    "COUNTRY OF ORIGIN\n",
    "- Italy\n",
    "\"\"\""
   ]
  },
  {
   "cell_type": "code",
   "execution_count": null,
   "metadata": {
    "vscode": {
     "languageId": "plaintext"
    }
   },
   "outputs": [],
   "source": [
    "prompt = f\"\"\"\n",
    "Your task is to help a marketing team create a \n",
    "description for a retail website of a product based \n",
    "on a technical fact sheet.\n",
    "\n",
    "Write a product description based on the information \n",
    "provided in the technical specifications delimited by \n",
    "triple backticks.\n",
    "\n",
    "Technical specifications: ```{fact_sheet_chair}```\n",
    "\"\"\"\n",
    "response = get_completion(prompt)\n",
    "print(response)\n"
   ]
  },
  {
   "attachments": {},
   "cell_type": "markdown",
   "metadata": {},
   "source": [
    "Introducing our stunning mid-century inspired office chair, the perfect addition to any home or business setting. Part of a beautiful family of office furniture, including filing cabinets, desks, bookcases, meeting tables, and more, this chair is available in several options of shell color and base finishes to suit your style. Choose from plastic back and front upholstery (SWC-100) or full upholstery (SWC-110) in 10 fabric and 6 leather options.\n",
    "\n",
    "The chair is constructed with a 5-wheel plastic coated aluminum base and features a pneumatic chair adjust for easy raise/lower action. It is available with or without armrests and is qualified for contract use. The base finish options are stainless steel, matte black, gloss white, or chrome.\n",
    "\n",
    "Measuring at a width of 53 cm, depth of 51 cm, and height of 80 cm, with a seat height of 44 cm and seat depth of 41 cm, this chair is designed for ultimate comfort. You can also choose between soft or hard-floor caster options and two choices of seat foam densities: medium (1.8 lb/ft3) or high (2.8 lb/ft3). The armrests are available in either an armless or 8 position PU option.\n",
    "\n",
    "The materials used in the construction of this chair are of the highest quality. The shell base glider is made of cast aluminum with modified nylon PA6/PA66 coating and has a shell thickness of 10 mm. The seat is made of HD36 foam, ensuring maximum comfort and durability.\n",
    "\n",
    "This chair is made in Italy and is the perfect combination of style and functionality. Upgrade your workspace with our mid-century inspired office chair today!"
   ]
  },
  {
   "attachments": {},
   "cell_type": "markdown",
   "metadata": {},
   "source": [
    "---\n",
    "\n",
    "It looks like it's done a nice job writing a description, introducing a stunning mid-century inspired office chair, perfect edition, and so on, but when I look at this, I go, boy, this is really long. It's done a nice job doing exactly what I asked it to, which is start from the technical fact sheet and write a product description. But when I look at this, I go, this is kind of long.\n",
    "\n",
    "세기 중반에서 영감을 받은 멋진 사무용 의자, 퍼펙트 에디션 등을 소개하는 등 설명을 잘 작성한 것 같지만, 이걸 보면 정말 길다는 생각이 듭니다. 기술 자료에서 시작하여 제품 설명을 작성하라는 제 요청을 정확히 수행했습니다. 하지만 이걸 보면 너무 길다는 생각이 듭니다.\n",
    "\n",
    "## Issue 1: The text is too long \n",
    "- Limit the number of words/sentences/characters.\n",
    "\n",
    "Maybe we want it to be a little bit shorter. So I have had an idea. I wrote a prompt, got the result. I'm not that happy with it because it's too long, so I will then clarify my prompt and say use at most 50 words to try to give better guidance on the desired length of this, and let's run it again. \n",
    "\n",
    "조금 더 짧았으면 좋겠어요. 그래서 아이디어가 떠올랐습니다. 프롬프트를 작성하고 결과를 얻었습니다. 너무 길어서 마음에 들지 않으므로 프롬프트를 명확히하고 원하는 길이에 대한 더 나은 지침을 제공하기 위해 최대 50 단어를 사용한다고 말한 다음 다시 실행해 보겠습니다. "
   ]
  },
  {
   "cell_type": "code",
   "execution_count": null,
   "metadata": {
    "vscode": {
     "languageId": "plaintext"
    }
   },
   "outputs": [],
   "source": [
    "prompt = f\"\"\"\n",
    "Your task is to help a marketing team create a \n",
    "description for a retail website of a product based \n",
    "on a technical fact sheet.\n",
    "\n",
    "Write a product description based on the information \n",
    "provided in the technical specifications delimited by \n",
    "triple backticks.\n",
    "\n",
    "Use at most 50 words.\n",
    "\n",
    "Technical specifications: ```{fact_sheet_chair}```\n",
    "\"\"\"\n",
    "response = get_completion(prompt)\n",
    "print(response)"
   ]
  },
  {
   "attachments": {},
   "cell_type": "markdown",
   "metadata": {},
   "source": [
    "Introducing our mid-century inspired office chair, perfect for home or business settings. Available in a range of shell colors and base finishes, with or without armrests. Choose from 10 fabric and 6 leather options for full or plastic upholstery. With a 5-wheel base and pneumatic chair adjust, it's both stylish and functional. Made in Italy."
   ]
  },
  {
   "attachments": {},
   "cell_type": "markdown",
   "metadata": {},
   "source": [
    "---\n",
    "\n",
    "Okay, this actually looks like a much nicer short description of the product, introducing a mid-century inspired office chair, and so on, five you just, yeah, both stylish and practical. Not bad. And let me double check the length that this is.\n",
    "\n",
    "좋네요, 이것은 실제로 제품에 대한 훨씬 더 멋진 짧은 설명처럼 보입니다. 중세에서 영감을 받은 사무실 의자를 소개하는 등 스타일리시하고 실용적입니다. 나쁘지 않네요. 그리고 길이가 얼마인지 다시 한 번 확인하겠습니다."
   ]
  },
  {
   "cell_type": "code",
   "execution_count": null,
   "metadata": {
    "vscode": {
     "languageId": "plaintext"
    }
   },
   "outputs": [],
   "source": [
    "len(response.split(\" \"))"
   ]
  },
  {
   "attachments": {},
   "cell_type": "markdown",
   "metadata": {},
   "source": [
    "55"
   ]
  },
  {
   "attachments": {},
   "cell_type": "markdown",
   "metadata": {},
   "source": [
    "So I'm going to take the response, split it according to where the space is, and then you'll print out the length. So it's 52 words. Actually not bad. Large language models are okay, but not that great at following instructions about a very precise word count, but this is actually not bad. Sometimes it will print out something with 60 or 65 and so on words, but it's kind of within reason. \n",
    "\n",
    "이제 응답을 가져와서 공백이 있는 위치에 따라 분할한 다음 길이를 인쇄하겠습니다. 52단어입니다. 사실 나쁘지 않습니다. 큰 언어 모델은 괜찮지만 매우 정확한 단어 수에 대한 지침을 따르는 데는 그다지 능숙하지 않지만 실제로는 나쁘지 않습니다. 가끔 60단어, 65단어 등의 단어가 인쇄되는 경우도 있지만 어느 정도는 괜찮습니다.\n",
    "(동영상과 약간 다른 결과가 출력됨.)\n",
    "\n",
    "Some of the things you Let me run that again. But these are different ways to tell the large-language model what's the length of the output that you want. \n",
    "\n",
    "다시 실행해 보겠습니다. 그러나 이것은 큰 언어 모델에 원하는 출력의 길이를 알려주는 다른 방법입니다."
   ]
  },
  {
   "cell_type": "code",
   "execution_count": null,
   "metadata": {
    "vscode": {
     "languageId": "plaintext"
    }
   },
   "outputs": [],
   "source": [
    "prompt = f\"\"\"\n",
    "Your task is to help a marketing team create a \n",
    "description for a retail website of a product based \n",
    "on a technical fact sheet.\n",
    "\n",
    "Write a product description based on the information \n",
    "provided in the technical specifications delimited by \n",
    "triple backticks.\n",
    "\n",
    "Use at most 3 sentences.\n",
    "\n",
    "Technical specifications: ```{fact_sheet_chair}```\n",
    "\"\"\"\n",
    "response = get_completion(prompt)\n",
    "print(response)"
   ]
  },
  {
   "attachments": {},
   "cell_type": "markdown",
   "metadata": {},
   "source": [
    "Introducing the mid-century inspired office chair, available in a range of shell colors and base finishes to suit any home or business setting. Choose from plastic or full upholstery in a variety of fabric and leather options, and opt for armrests or armless. With a 5-wheel plastic coated aluminum base and pneumatic chair adjust, this chair is both stylish and functional."
   ]
  },
  {
   "attachments": {},
   "cell_type": "markdown",
   "metadata": {},
   "source": [
    "---\n",
    "\n",
    "So this is one, two, three. I count these sentences. Looks like I did a pretty good job.\n",
    "\n",
    "이건 하나, 둘, 셋입니다. 이 문장을 세어봅니다. 꽤 잘한 것 같네요.\n",
    "\n",
    "And then I've also seen people sometimes do things like, I don't know, use at most 280 characters. Large-language models, because of the way they interpret text, using something called a tokenizer, which I won't talk about.\n",
    "\n",
    "그리고 가끔 사람들이 최대 280자까지 사용하는 것을 본 적도 있습니다. 대형 언어 모델은 텍스트를 해석하는 방식 때문에 토큰화기라는 것을 사용하는데, 이에 대해서는 설명하지 않겠습니다. "
   ]
  },
  {
   "cell_type": "code",
   "execution_count": null,
   "metadata": {
    "vscode": {
     "languageId": "plaintext"
    }
   },
   "outputs": [],
   "source": [
    "prompt = f\"\"\"\n",
    "Your task is to help a marketing team create a \n",
    "description for a retail website of a product based \n",
    "on a technical fact sheet.\n",
    "\n",
    "Write a product description based on the information \n",
    "provided in the technical specifications delimited by \n",
    "triple backticks.\n",
    "\n",
    "Use at most 280 characters.\n",
    "\n",
    "Technical specifications: ```{fact_sheet_chair}```\n",
    "\"\"\"\n",
    "response = get_completion(prompt)\n",
    "print(response)"
   ]
  },
  {
   "attachments": {},
   "cell_type": "markdown",
   "metadata": {},
   "source": [
    "Introducing our mid-century inspired office chair, perfect for home or business settings. Available in multiple shell colors and base finishes, with or without armrests. Choose from 10 fabric and 6 leather options. Features a 5-wheel base and pneumatic chair adjust. Made in Italy."
   ]
  },
  {
   "attachments": {},
   "cell_type": "markdown",
   "metadata": {},
   "source": [
    "---\n",
    "\n",
    "But they tend to be so-so at counting characters. But let's see, 281 characters. It's actually surprisingly close. Usually a \n",
    "large-language model doesn't get it quite this close.\n",
    "\n",
    "하지만 문자 수를 세는 데는 그저 그런 경향이 있습니다. 하지만 어디 보자, 281자입니다. 의외로 비슷하네요. 일반적으로 큰 언어 모델은 이 정도에 근접하지 못합니다."
   ]
  },
  {
   "cell_type": "code",
   "execution_count": null,
   "metadata": {
    "vscode": {
     "languageId": "plaintext"
    }
   },
   "outputs": [],
   "source": [
    "len(response)"
   ]
  },
  {
   "attachments": {},
   "cell_type": "markdown",
   "metadata": {},
   "source": [
    "281"
   ]
  },
  {
   "attachments": {},
   "cell_type": "markdown",
   "metadata": {},
   "source": [
    "---\n",
    "\n",
    "But these are different ways they can play with to try to control the length of the output that you get. But then just switch it back to use at most 50 words. And that's that result that we had just now. \n",
    "\n",
    "하지만 출력 길이를 조절하기 위해 다양한 방법을 사용해 볼 수 있습니다. 하지만 최대 50단어만 사용하도록 다시 전환하면 됩니다. 이것이 바로 방금 우리가 얻은 결과입니다. \n",
    "\n",
    "## Issue 2. Text focuses on the wrong details\n",
    "- Ask it to focus on the aspects that are relevant to the intended audience.\n",
    "\n",
    "As we continue to refine this text for our website, we might decide that, boy, this website isn't selling direct to consumers, it's actually intended to sell furniture to furniture retailers that would be more interested in the technical details of the chair and the materials of the chair.\n",
    "\n",
    "웹사이트를 위해 이 텍스트를 계속 다듬다 보면, 이 웹사이트는 소비자에게 직접 판매하는 것이 아니라 의자의 기술적 세부 사항과 의자의 소재에 더 관심이 있는 가구 소매업체에 가구를 판매하기 위한 것으로 판단할 수 있습니다.\n",
    "\n",
    "In that case, you can take this prompt and say, I want to modify this prompt to get it to be more precise about the technical details. So let me keep on modifying this prompt.\n",
    "\n",
    "이 경우 이 프롬프트를 가지고 \"이 프롬프트를 수정하여 기술적 세부 사항을 더 정확하게 표시하고 싶습니다\"라고 말할 수 있습니다. 이 프롬프트를 계속 수정해 보겠습니다.\n",
    "\n",
    "And I'm going to say, this description is intended for furniture retailers, so it should be technical and focus on materials, products and constructs it from. Well, let's run that.\n",
    "\n",
    "그리고 이 설명은 가구 소매업체를 위한 것이므로 기술적인 내용이어야 하며 재료, 제품 및 구성 요소에 초점을 맞춰야 한다고 말하겠습니다. 그럼 실행해 보겠습니다."
   ]
  },
  {
   "cell_type": "code",
   "execution_count": null,
   "metadata": {
    "vscode": {
     "languageId": "plaintext"
    }
   },
   "outputs": [],
   "source": [
    "prompt = f\"\"\"\n",
    "Your task is to help a marketing team create a \n",
    "description for a retail website of a product based \n",
    "on a technical fact sheet.\n",
    "\n",
    "Write a product description based on the information \n",
    "provided in the technical specifications delimited by \n",
    "triple backticks.\n",
    "\n",
    "The description is intended for furniture retailers, \n",
    "so should be technical in nature and focus on the \n",
    "materials the product is constructed from.\n",
    "\n",
    "Use at most 50 words.\n",
    "\n",
    "Technical specifications: ```{fact_sheet_chair}```\n",
    "\"\"\"\n",
    "response = get_completion(prompt)\n",
    "print(response)"
   ]
  },
  {
   "attachments": {},
   "cell_type": "markdown",
   "metadata": {},
   "source": [
    "Introducing our mid-century inspired office chair, perfect for both home and business settings. With a range of shell colors and base finishes, including stainless steel and matte black, this chair is available with or without armrests. The 5-wheel plastic coated aluminum base and pneumatic chair adjust make it easy to raise and lower. Made in Italy with a cast aluminum shell and HD36 foam seat."
   ]
  },
  {
   "attachments": {},
   "cell_type": "markdown",
   "metadata": {},
   "source": [
    "---\n",
    "\n",
    "Well, let's run that. And let's see. Not bad. It says, coated aluminum base and pneumatic chair. High-quality materials. So by changing the prompt, you can get it to focus more on specific characters, on specific characteristics you want it to.\n",
    "\n",
    "그럼 실행해 봅시다. 어디 보자. 나쁘지 않네요 코팅된 알루미늄 베이스와 공압식 의자라고 적혀있네요. 고품질 소재군요. 따라서 프롬프트를 변경하면 특정 캐릭터, 원하는 특정 특성에 더 집중하도록 할 수 있습니다.\n",
    "\n",
    "And when I look at this, I might decide, hmm, at the end of the description, I also wanted to include the product ID. So the two offerings of this chair, SWC 110, SOC 100.\n",
    "\n",
    "그리고 이걸 보면 설명 마지막에 제품 ID를 추가하고 싶다고 생각할 수도 있습니다. 그래서 이 의자의 두 가지 제품인 SWC 110, SOC 100을 소개합니다.\n",
    "\n",
    "So maybe I can further improve this prompt. And to get it to give me the product IDs, I can add this instruction at the end of the description, include every 7 character product ID in the technical specification.\n",
    "\n",
    "이 프롬프트를 더 개선할 수 있을 것 같습니다. 그리고 제품 ID를 제공하도록 하려면 설명 끝에 이 지침을 추가하고 기술 사양에 7자 제품 ID를 모두 포함시키면 됩니다.\n",
    "\n",
    "So maybe I can further improve this prompt. And to get it to give me the product IDs, I can add this instruction at the end of the description, include every 7 character product ID in the technical specification. And let's run it and see what happens.\n",
    "\n",
    "이 프롬프트를 더 개선할 수 있을 것 같습니다. 그리고 제품 ID를 제공하도록 하려면 설명 끝에 이 지침을 추가하고 기술 사양에 7자 제품 ID를 모두 포함시키면 됩니다. 그리고 실행해서 어떤 일이 일어나는지 살펴봅시다."
   ]
  },
  {
   "cell_type": "code",
   "execution_count": null,
   "metadata": {
    "vscode": {
     "languageId": "plaintext"
    }
   },
   "outputs": [],
   "source": [
    "prompt = f\"\"\"\n",
    "Your task is to help a marketing team create a \n",
    "description for a retail website of a product based \n",
    "on a technical fact sheet.\n",
    "\n",
    "Write a product description based on the information \n",
    "provided in the technical specifications delimited by \n",
    "triple backticks.\n",
    "\n",
    "The description is intended for furniture retailers, \n",
    "so should be technical in nature and focus on the \n",
    "materials the product is constructed from.\n",
    "\n",
    "At the end of the description, include every 7-character \n",
    "Product ID in the technical specification.\n",
    "\n",
    "Use at most 50 words.\n",
    "\n",
    "Technical specifications: ```{fact_sheet_chair}```\n",
    "\"\"\"\n",
    "response = get_completion(prompt)\n",
    "print(response)"
   ]
  },
  {
   "attachments": {},
   "cell_type": "markdown",
   "metadata": {},
   "source": [
    "Introducing our mid-century inspired office chair, perfect for home or business settings. With a range of shell colors and base finishes, and the option of plastic or full upholstery, this chair is both stylish and comfortable. Constructed with a 5-wheel plastic coated aluminum base and pneumatic chair adjust, it's also practical. Available with or without armrests and suitable for contract use. Product ID: SWC-100, SWC-110."
   ]
  },
  {
   "attachments": {},
   "cell_type": "markdown",
   "metadata": {},
   "source": [
    "---\n",
    "\n",
    "And so it says, introduce you to our mid-century inspired office chair, shell colors, talks about plastic coating aluminum base, practical, some options, talks about the two product IDs. So this looks pretty good. And what you've just seen is a short example of the iterative prompt development that many developers will go through. \n",
    "\n",
    "그러니까 미드 센추리에서 영감을 받은 사무실 의자, 쉘 색상, 플라스틱 코팅 알루미늄 베이스에 대한 이야기, 실용적인 몇 가지 옵션, 두 가지 제품 ID에 대한 이야기 등을 소개하는 내용입니다. 꽤 괜찮아 보이네요. 방금 보신 것은 많은 개발자가 반복적인 프롬프트 개발 과정을 거치는 짧은 예시입니다. \n",
    "\n",
    "And I think a guideline is, in the last video, you saw Isa share a number of best practices. And so what I usually do is keep best practices like that in mind, be clear and specific, and if necessary, give the model time to think.\n",
    "\n",
    "지난 동영상에서 Isa가 여러 가지 모범 사례를 공유한 것을 보셨을 텐데요. 그래서 저는 보통 그런 모범 사례를 염두에 두고 명확하고 구체적으로 설명하며, 필요한 경우 모델에게 생각할 시간을 주는 것입니다.\n",
    "\n",
    "With those in mind, it's worthwhile to often take a first attempt at writing a prompt, see what happens, and then go from there to iteratively refine the prompt to get closer and closer to the result that you need. And so a lot of the successful prompts that you may see used in various programs was arrived at an iterative process like this.\n",
    "\n",
    "이러한 점을 염두에 두고 프롬프트를 처음 작성하고 어떤 일이 일어나는지 확인한 다음, 프롬프트를 반복적으로 다듬어 원하는 결과에 점점 더 가까워지는 것을 반복하는 것이 좋습니다. 다양한 프로그램에서 사용되는 성공적인 프롬프트의 대부분은 이와 같은 반복적인 과정을 거쳐 완성되었습니다.\n",
    "\n",
    "Just  for fun, let me show you an example of an even more complex prompt that might give you a sense of what ChatGPT can do, which is I've just added a few extra instructions here.\n",
    "\n",
    "재미 삼아, ChatGPT가 무엇을 할 수 있는지 알 수 있는 훨씬 더 복잡한 프롬프트의 예를 보여드리도록 하겠습니다.\n",
    "\n",
    "## Issue 3. Description needs a table of dimensions\n",
    "- Ask it to extract information and organize it in a table.\n",
    "\n",
    "After description, include a table that gives the product dimensions, and then you'll format everything as HTML. So let's run that. And in practice, you would end up with a prompt like this, really only after multiple iterations. I don't think I know anyone that would write this exact prompt the first time they were trying to get the system to process a fact sheet. \n",
    "\n",
    "설명 후 제품 치수를 제공하는 표를 포함하고 모든 형식을 HTML로 지정합니다. 이제 실행해 봅시다. 실제로는 여러 번 반복한 후에야 이와 같은 프롬프트가 표시됩니다. 시스템에서 팩트 시트를 처리하려고 할 때 한번에 이런 프롬프트를 작성하는 사람은 없을 것 같습니다."
   ]
  },
  {
   "cell_type": "code",
   "execution_count": null,
   "metadata": {
    "vscode": {
     "languageId": "plaintext"
    }
   },
   "outputs": [],
   "source": [
    "prompt = f\"\"\"\n",
    "Your task is to help a marketing team create a \n",
    "description for a retail website of a product based \n",
    "on a technical fact sheet.\n",
    "\n",
    "Write a product description based on the information \n",
    "provided in the technical specifications delimited by \n",
    "triple backticks.\n",
    "\n",
    "The description is intended for furniture retailers, \n",
    "so should be technical in nature and focus on the \n",
    "materials the product is constructed from.\n",
    "\n",
    "At the end of the description, include every 7-character \n",
    "Product ID in the technical specification.\n",
    "\n",
    "After the description, include a table that gives the \n",
    "product's dimensions. The table should have two columns.\n",
    "In the first column include the name of the dimension. \n",
    "In the second column include the measurements in inches only.\n",
    "\n",
    "Give the table the title 'Product Dimensions'.\n",
    "\n",
    "Format everything as HTML that can be used in a website. \n",
    "Place the description in a <div> element.\n",
    "\n",
    "Technical specifications: ```{fact_sheet_chair}```\n",
    "\"\"\"\n",
    "\n",
    "response = get_completion(prompt)\n",
    "print(response)"
   ]
  },
  {
   "attachments": {},
   "cell_type": "markdown",
   "metadata": {},
   "source": [
    "<div>\n",
    "<h2>Mid-Century Inspired Office Chair</h2>\n",
    "<p>Introducing our mid-century inspired office chair, part of a beautiful family of office furniture that includes filing cabinets, desks, bookcases, meeting tables, and more. This chair is available in several options of shell color and base finishes, allowing you to customize it to your liking. You can choose between plastic back and front upholstery or full upholstery in 10 fabric and 6 leather options. The base finish options are stainless steel, matte black, gloss white, or chrome. The chair is also available with or without armrests, making it suitable for both home and business settings. Plus, it's qualified for contract use, ensuring its durability and longevity.</p>\n",
    "<p>The chair's construction features a 5-wheel plastic coated aluminum base and a pneumatic chair adjust for easy raise/lower action. You can also choose between soft or hard-floor caster options and two choices of seat foam densities: medium (1.8 lb/ft3) or high (2.8 lb/ft3). The armrests are also customizable, with the option of armless or 8 position PU armrests.</p>\n",
    "<p>The materials used in the chair's construction are of the highest quality. The shell base glider is made of cast aluminum with modified nylon PA6/PA66 coating, with a shell thickness of 10 mm. The seat is made of HD36 foam, ensuring maximum comfort and support.</p>\n",
    "<p>Made in Italy, this mid-century inspired office chair is the perfect addition to any office space. Order yours today!</p>\n",
    "<h3>Product IDs:</h3>\n",
    "<ul>\n",
    "<li>SWC-100</li>\n",
    "<li>SWC-110</li>\n",
    "</ul>\n",
    "</div>\n",
    "\n",
    "<table>\n",
    "  <caption>Product Dimensions</caption>\n",
    "  <tr>\n",
    "    <th>Dimension Name</th>\n",
    "    <th>Measurement (inches)</th>\n",
    "  </tr>\n",
    "  <tr>\n",
    "    <td>Width</td>\n",
    "    <td>20.87\"</td>\n",
    "  </tr>\n",
    "  <tr>\n",
    "    <td>Depth</td>\n",
    "    <td>20.08\"</td>\n",
    "  </tr>\n",
    "  <tr>\n",
    "    <td>Height</td>\n",
    "    <td>31.50\"</td>\n",
    "  </tr>\n",
    "  <tr>\n",
    "    <td>Seat Height</td>\n",
    "    <td>17.32\"</td>\n",
    "  </tr>\n",
    "  <tr>\n",
    "    <td>Seat Depth</td>\n",
    "    <td>16.14\"</td>\n",
    "  </tr>\n",
    "</table>"
   ]
  },
  {
   "attachments": {},
   "cell_type": "markdown",
   "metadata": {},
   "source": [
    "And so this actually outputs a bunch of HTML. Let's display the HTML to see if this is even valid HTML and see if this works. And I don't actually know it's going to work, but let's see.\n",
    "\n",
    "그래서 이것은 실제로 많은 HTML을 출력합니다. HTML을 표시하여 이것이 유효한 HTML인지 확인하고 이것이 작동하는지 확인해 보겠습니다. 실제로 작동할지는 모르겠지만 어디 보자고요.\n",
    "\n",
    "## Load Python libraries to view HTML"
   ]
  },
  {
   "cell_type": "code",
   "execution_count": null,
   "metadata": {
    "vscode": {
     "languageId": "plaintext"
    }
   },
   "outputs": [],
   "source": [
    "from IPython.display import display, HTML"
   ]
  },
  {
   "cell_type": "code",
   "execution_count": null,
   "metadata": {
    "vscode": {
     "languageId": "plaintext"
    }
   },
   "outputs": [],
   "source": [
    "display(HTML(response))"
   ]
  },
  {
   "attachments": {},
   "cell_type": "markdown",
   "metadata": {},
   "source": [
    "## Mid-Century Inspired Office Chair\n",
    "Introducing our mid-century inspired office chair, part of a beautiful family of office furniture that includes filing cabinets, desks, bookcases, meeting tables, and more. This chair is available in several options of shell color and base finishes, allowing you to customize it to your liking. You can choose between plastic back and front upholstery or full upholstery in 10 fabric and 6 leather options. The base finish options are stainless steel, matte black, gloss white, or chrome. The chair is also available with or without armrests, making it suitable for both home and business settings. Plus, it's qualified for contract use, ensuring its durability and longevity.\n",
    "\n",
    "The chair's construction features a 5-wheel plastic coated aluminum base and a pneumatic chair adjust for easy raise/lower action. You can also choose between soft or hard-floor caster options and two choices of seat foam densities: medium (1.8 lb/ft3) or high (2.8 lb/ft3). The armrests are also customizable, with the option of armless or 8 position PU armrests.\n",
    "\n",
    "The materials used in the chair's construction are of the highest quality. The shell base glider is made of cast aluminum with modified nylon PA6/PA66 coating, with a shell thickness of 10 mm. The seat is made of HD36 foam, ensuring maximum comfort and support.\n",
    "\n",
    "Made in Italy, this mid-century inspired office chair is the perfect addition to any office space. Order yours today!\n",
    "\n",
    "### Product IDs:\n",
    " - SWC-100\n",
    " - SWC-110\n",
    "\n",
    "Product Dimensions\n",
    "\n",
    "| Dimension Name | Measurement (inches) |\n",
    "|--|--|\n",
    "| Width | 20.87\" |\n",
    "| Depth | 20.08\" |\n",
    "| Height | 31.50\" |\n",
    "| Seat Height | 17.32\" |\n",
    "| Seat Depth | 16.14\" |\n"
   ]
  },
  {
   "attachments": {},
   "cell_type": "markdown",
   "metadata": {},
   "source": [
    "Oh, cool. All right. Looks like a rendit. So it has this really nice looking description of a chair. Construction, materials, product dimensions. Oh, it looks like I left out the use at most 50 words instruction, so this is a little bit long, but if you want that, you can even feel free to pause the video, tell it to be more succinct and regenerate this and see what results you get.\n",
    "\n",
    "오, 멋지네요. 좋아 렌더링처럼 보이네요. 의자에 대한 아주 멋진 설명이 있네요. 구조, 재료, 제품 치수. 아, 최대 50단어 사용법을 생략한 것 같아서 조금 길어졌지만 원하는 경우 비디오를 일시 중지하고 더 간결하게 말해서 다시 생성하고 어떤 결과가 나오는지 확인할 수도 있습니다. \n",
    "\n",
    "So I hope you take away from this video that prompt development is an iterative process. Try something, see how it does not yet, fulfill exactly what you want, and then think about how to clarify your instructions, or in some cases, think about how to give it more space to think, to get it closer to delivering the results that you want.\n",
    "\n",
    "따라서 이 비디오를 통해 프롬프트 개발은 반복적인 과정이라는 점을 기억하시기 바랍니다. 무언가를 시도해보고, 아직 원하는 것을 정확히 충족하지 못하는지 확인한 다음, 지침을 명확히 하는 방법을 생각하거나 경우에 따라 생각할 시간을 더 주어 원하는 결과를 제공하는 데 더 가까워지도록 하는 방법에 대해 생각해 보세요.\n",
    "\n",
    "And I think the key to being an effective prompt engineer isn't so much about knowing the perfect prompt, it's about having a good process to develop prompts that are effective for your application. And in this video I illustrated developing a prompt using just one example.\n",
    "\n",
    "효과적인 프롬프트 엔지니어가 되기 위한 핵심은 완벽한 프롬프트를 아는 것이 아니라 애플리케이션에 효과적인 프롬프트를 개발할 수 있는 좋은 프로세스를 갖추는 것이라고 생각합니다. 이 동영상에서는 한 가지 예시를 사용하여 프롬프트를 개발하는 방법을 설명했습니다.\n",
    "\n",
    "For more sophisticated applications, sometimes you will have multiple examples, say a list of 10 or even 50 or 100 fact sheets, and iteratively develop a prompt and evaluate it against a large set of cases. But for the early development of most applications, I see many people developing it sort of the way I am with just one example, but then for more mature applications, sometimes it could be useful to evaluate prompts against a larger set of examples, such as to test different prompts on dozens of fact sheets to see how this average or worst case performance is on multiple fact sheets.\n",
    "\n",
    "보다 정교한 애플리케이션의 경우, 10개 또는 50개 또는 100개의 팩트 시트 목록과 같은 여러 예제를 가지고 프롬프트를 반복적으로 개발하여 대규모 사례 집합과 비교하여 평가하는 경우가 있습니다. 하지만 대부분의 애플리케이션을 처음 개발할 때는 한 가지 예제만 가지고 저와 같은 방식으로 개발하는 경우가 많지만, 좀 더 성숙한 애플리케이션의 경우에는 수십 개의 팩트 시트에서 다양한 프롬프트를 테스트하여 여러 팩트 시트에서 평균 또는 최악의 경우 성능이 어떤지 확인하는 등 더 많은 예제를 대상으로 프롬프트를 평가하는 것이 유용할 수 있습니다.\n",
    "\n",
    "But usually you end up doing that only when an application is more mature and you have to have those metrics to drive that incremental last few steps of prompt improvement. So with that, please do play with the Jupyter code notebook examples and try out different variations and see what results you get. And when you're done, let's go on to the next video where we'll talk about one very common use of large language models in software applications, which is to summarize text.\n",
    "\n",
    "그러나 일반적으로 애플리케이션이 좀 더 성숙해졌을 때만 이러한 작업을 수행하며, 마지막 몇 단계의 즉각적인 개선을 추진하기 위해서는 이러한 메트릭이 있어야 합니다. 따라서 Jupyter 코드 노트북 예제를 가지고 다양한 변형을 시도해 보고 어떤 결과가 나오는지 확인해 보세요. 이 과정이 끝나면 다음 동영상으로 넘어가서 소프트웨어 애플리케이션에서 대규모 언어 모델의 가장 일반적인 용도 중 하나인 텍스트 요약에 대해 이야기해 보겠습니다. "
   ]
  },
  {
   "attachments": {},
   "cell_type": "markdown",
   "metadata": {},
   "source": [
    "## Try experimenting on your own!"
   ]
  }
 ],
 "metadata": {
  "language_info": {
   "name": "python"
  },
  "orig_nbformat": 4
 },
 "nbformat": 4,
 "nbformat_minor": 2
}
