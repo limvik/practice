{
 "cells": [
  {
   "attachments": {},
   "cell_type": "markdown",
   "metadata": {},
   "source": [
    "# Transforming\n",
    "\n",
    "In this notebook, we will explore how to use Large Language Models for text transformation tasks such as language translation, spelling and grammar checking, tone adjustment, and format conversion.\n",
    "\n",
    "---\n",
    "\n",
    "Large language models are very good at transforming its input to a different format, such as inputting a piece of text in one language and transforming it or translating it to a different language, or helping with spelling and grammar corrections, so taking as input a piece of text that may not be fully grammatical and helping you to fix that up a bit, or even transforming formats such as inputting HTML and outputting JSON. So there's a bunch of applications that I used to write somewhat painfully with a bunch of regular expressions that would definitely be much more simply implemented now with a large language model and a few prompts.\n",
    "\n",
    "대규모 언어 모델은 한 언어로 된 텍스트를 입력하면 이를 다른 언어로 변환하거나 번역하는 등 입력을 다른 형식으로 변환하는 데 매우 능숙하며, 맞춤법 및 문법 교정을 지원하므로 문법에 맞지 않을 수 있는 텍스트를 입력으로 받아 이를 약간 수정하거나 HTML 입력 및 JSON 출력과 같은 형식 변환에도 도움이 됩니다. 따라서 수많은 정규 표현식을 사용하여 다소 번거롭게 작성했던 애플리케이션을 이제 큰 언어 모델과 몇 가지 프롬프트만 있으면 훨씬 더 간단하게 구현할 수 있습니다.\n",
    "\n",
    "Yeah, I use Chat GPT to proofread pretty much everything I write these days, so I'm excited to show you some more examples in the notebook now. \n",
    "\n",
    "네, 저는 요즘 제가 작성하는 거의 모든 글의 교정에 Chat GPT를 사용하고 있는데요, 이제 노트북에서 몇 가지 예시를 더 보여드릴 수 있게 되어 기쁩니다. \n",
    "\n",
    "---\n",
    "\n",
    "## Setup\n",
    "\n",
    "So first we'll import OpenAI and also use the same getCompletion helper function that we've been using throughout the videos.\n",
    "\n",
    "먼저 OpenAI를 임포트하고 동영상 전체에서 사용했던 것과 동일한 getCompletion 헬퍼 함수를 사용하겠습니다."
   ]
  },
  {
   "cell_type": "code",
   "execution_count": null,
   "metadata": {},
   "outputs": [],
   "source": [
    "import openai\n",
    "import os\n",
    "\n",
    "from dotenv import load_dotenv, find_dotenv\n",
    "_ = load_dotenv(find_dotenv()) # read local .env file\n",
    "\n",
    "openai.api_key  = os.getenv('OPENAI_API_KEY')"
   ]
  },
  {
   "cell_type": "code",
   "execution_count": null,
   "metadata": {},
   "outputs": [],
   "source": [
    "def get_completion(prompt, model=\"gpt-3.5-turbo\", temperature=0): \n",
    "    messages = [{\"role\": \"user\", \"content\": prompt}]\n",
    "    response = openai.ChatCompletion.create(\n",
    "        model=model,\n",
    "        messages=messages,\n",
    "        temperature=temperature, \n",
    "    )\n",
    "    return response.choices[0].message[\"content\"]"
   ]
  },
  {
   "attachments": {},
   "cell_type": "markdown",
   "metadata": {},
   "source": [
    "## Translation\n",
    "\n",
    "ChatGPT is trained with sources in many languages. This gives the model the ability to do translation. Here are some examples of how to use this capability.\n",
    "\n",
    "---\n",
    "\n",
    "And the first thing we'll do is a translation task. large language models are trained on a lot of text from kind of many sources, a lot of which is the internet, and this is kind of, of course, in many different languages.\n",
    "\n",
    "가장 먼저 할 일은 번역 작업입니다. 대규모 언어 모델은 인터넷 등 다양한 소스의 많은 텍스트를 학습하며, 이 텍스트는 물론 다양한 언어로 되어 있습니다.\n",
    "\n",
    "So this kind of imbues the model with the ability to do translation. And these models know kind of hundreds of languages to varying degrees of proficiency. And so we'll go through some examples of how to use this capability. So let's start off with something simple. So in this first example, the prompt is translate the following English text to Spanish.\n",
    "\n",
    "따라서 모델에 번역 능력을 불어넣는 것입니다. 그리고 이러한 모델은 수백 개의 언어를 다양한 수준의 숙련도로 알고 있습니다. 이제 이 기능을 사용하는 방법에 대한 몇 가지 예를 살펴보겠습니다. 간단한 것부터 시작하겠습니다. 이 첫 번째 예에서는 다음 영어 텍스트를 스페인어로 번역하라는 메시지가 표시됩니다."
   ]
  },
  {
   "cell_type": "code",
   "execution_count": null,
   "metadata": {},
   "outputs": [],
   "source": [
    "prompt = f\"\"\"\n",
    "Translate the following English text to Spanish: \\ \n",
    "```Hi, I would like to order a blender```\n",
    "\"\"\"\n",
    "response = get_completion(prompt)\n",
    "print(response)"
   ]
  },
  {
   "attachments": {},
   "cell_type": "markdown",
   "metadata": {},
   "source": [
    "Hola, me gustaría ordenar una licuadora.\n",
    "\n",
    "---"
   ]
  },
  {
   "attachments": {},
   "cell_type": "markdown",
   "metadata": {},
   "source": [
    "Hi, I would like to order a blender. And the response is Hola, me gustaría ordenar una licuadora. And I'm very sorry to all of you Spanish speakers. I never learned Spanish, unfortunately, as you can definitely tell. OK, let's try another example. So in this example, the prompt is, tell me what language this is. And then this is in French, Combien coûte la lampe d'air. And so let's run this. \n",
    "\n",
    "안녕하세요, 블렌더를 주문하고 싶습니다. 그리고 응답은 안녕하세요, 믹서기를 주문하고 싶습니다. 스페인어를 사용하시는 분들께는 정말 죄송합니다. 아시다시피 저는 안타깝게도 스페인어를 배운 적이 없습니다. 다른 예를 들어 보겠습니다. 이 예에서는 어떤 언어인지 말하라는 메시지가 표시됩니다. 그리고 이것은 프랑스어로 Combien coûte la lampe d'air입니다. 이제 이걸 실행해 봅시다."
   ]
  },
  {
   "cell_type": "code",
   "execution_count": null,
   "metadata": {},
   "outputs": [],
   "source": [
    "prompt = f\"\"\"\n",
    "Tell me which language this is: \n",
    "```Combien coûte le lampadaire?```\n",
    "\"\"\"\n",
    "response = get_completion(prompt)\n",
    "print(response)"
   ]
  },
  {
   "attachments": {},
   "cell_type": "markdown",
   "metadata": {},
   "source": [
    "This is French.\n",
    "\n",
    "---"
   ]
  },
  {
   "attachments": {},
   "cell_type": "markdown",
   "metadata": {},
   "source": [
    "And the model has identified that this is French. \n",
    "\n",
    "모델이 이것이 프랑스어임을 식별했습니다.\n",
    "\n",
    "The model can also do multiple translations at once. So in this example, let's say, translate the following text to French and Spanish. And you know what, let's add another an English pirate. And the text is, I want to order a basketball. So here we have French, Spanish, and English pirates. So in some languages, the translation can change depending on the speaker's relationship to the listener. And you can also explain this to the language model. And so it will be able to kind of translate accordingly.\n",
    "\n",
    "이 모델은 한 번에 여러 번역을 수행할 수도 있습니다. 이 예제에서는 다음 텍스트를 프랑스어와 스페인어로 번역한다고 가정해 보겠습니다. 그리고 영어 해적을 하나 더 추가해 봅시다. 텍스트는 농구공을 주문하고 싶어요. 여기에는 프랑스어, 스페인어, 영어 해적이 있습니다. 따라서 일부 언어의 경우 말하는 사람과 듣는 사람의 관계에 따라 번역이 달라질 수 있습니다. 그리고 이를 언어 모델에 설명할 수도 있습니다. 그러면 언어 모델이 그에 맞게 번역할 수 있습니다."
   ]
  },
  {
   "cell_type": "code",
   "execution_count": null,
   "metadata": {},
   "outputs": [],
   "source": [
    "prompt = f\"\"\"\n",
    "Translate the following  text to French and Spanish\n",
    "and English pirate: \\\n",
    "```I want to order a basketball```\n",
    "\"\"\"\n",
    "response = get_completion(prompt)\n",
    "print(response)"
   ]
  },
  {
   "attachments": {},
   "cell_type": "markdown",
   "metadata": {},
   "source": [
    "French pirate: ```Je veux commander un ballon de basket```\n",
    "\n",
    "Spanish pirate: ```Quiero pedir una pelota de baloncesto```\n",
    "\n",
    "English pirate: ```I want to order a basketball```\n",
    "\n",
    "---\n",
    "\n",
    "(동영상 강의에서 나온 결과)\n",
    "\n",
    "French: Je veux commander un ballon de basket\n",
    "\n",
    "Spanish: Quiero ordenar una pelota de baloncesto\n",
    "\n",
    "Eng1ish pirate: Arrr. I be wantin' to order a basketball!\n",
    "\n",
    "---"
   ]
  },
  {
   "attachments": {},
   "cell_type": "markdown",
   "metadata": {},
   "source": [
    "in this example, we say, translate the following text to Spanish in both the formal and informal forms. Would you like to order a pillow? And also notice here, we're using a different delimiter than these backticks. It doesn't really matter as long as it's kind of a clear separation. So, here we have the formal and informal.\n",
    "\n",
    "이 예에서는 다음 텍스트를 공식 및 비공식 형식 모두에서 스페인어로 번역한다고 가정합니다. 베개를 주문하시겠습니까? 또한 여기에서는 백틱과 다른 구분 기호를 사용하고 있음을 알 수 있습니다. 구분이 명확하기만 하다면 크게 상관없습니다. 여기에는 공식적인 것과 비공식적인 것이 있습니다. "
   ]
  },
  {
   "cell_type": "code",
   "execution_count": null,
   "metadata": {},
   "outputs": [],
   "source": [
    "prompt = f\"\"\"\n",
    "Translate the following text to Spanish in both the \\\n",
    "formal and informal forms: \n",
    "'Would you like to order a pillow?'\n",
    "\"\"\"\n",
    "response = get_completion(prompt)\n",
    "print(response)"
   ]
  },
  {
   "attachments": {},
   "cell_type": "markdown",
   "metadata": {},
   "source": [
    "Formal: ¿Le gustaría ordenar una almohada?\n",
    "\n",
    "Informal: ¿Te gustaría ordenar una almohada?\n",
    "\n",
    "---"
   ]
  },
  {
   "attachments": {},
   "cell_type": "markdown",
   "metadata": {},
   "source": [
    "formal is when you're speaking to someone who's kind of maybe senior to you or you're in a professional situation. That's when you use a formal tone and then informal is when you're speaking to maybe a group of friends. I don't actually speak Spanish but my dad does and he says that this is correct.\n",
    "\n",
    "따라서 공식적인 대화는 나보다 나이가 많거나 전문적인 상황에 있는 사람과 대화할 때 사용합니다. 이때는 공식적인 어조를 사용하고 비공식적인 어조는 친구 그룹과 대화할 때 사용합니다. 저는 스페인어를 잘 못하지만 아버지는 스페인어를 잘 하시고, 아버지는 이것이 맞다고 말씀하세요.\n",
    "\n",
    "### Universal Translator\n",
    "Imagine you are in charge of IT at a large multinational e-commerce company. Users are messaging you with IT issues in all their native languages. Your staff is from all over the world and speaks only their native languages. You need a universal translator!\n",
    "\n",
    "대규모 다국적 이커머스 기업에서 IT를 담당하고 있다고 가정해 보세요. 사용자들이 각자의 모국어로 IT 문제에 대해 메시지를 보내고 있습니다. 전 세계 각지에서 온 직원들은 각자의 모국어만 구사합니다. 여러분에게는 범용 번역기가 필요합니다!\n",
    "\n",
    "---\n",
    "\n",
    "first we'll just paste in a list of user messages in a variety of different languages and now we will loop through each of these user messages. So, for issue in user messages and then I'm going to copy over this slightly longer code block. And so, the first thing we'll do is ask the model to tell us what language the issue is in.\n",
    "\n",
    "먼저 다양한 언어로 된 사용자 메시지 목록을 붙여넣고 이제 각 사용자 메시지를 반복해 보겠습니다. 사용자 메시지에 문제가 있는 경우 약간 긴 코드 블록을 복사하겠습니다. 따라서 가장 먼저 할 일은 모델에 문제가 어떤 언어인지 알려달라고 요청하는 것입니다.\n",
    "\n",
    "So, here's the prompt. Then we'll print out the original message's language and the issue and then we'll ask the model to translate it into English and Korean. So, let's run this.\n",
    "\n",
    "다음은 프롬프트입니다. 그런 다음 원본 메시지의 언어와 문제를 출력한 다음 모델에게 영어와 한국어로 번역해 달라고 요청합니다. 이제 실행해 봅시다."
   ]
  },
  {
   "cell_type": "code",
   "execution_count": null,
   "metadata": {},
   "outputs": [],
   "source": [
    "user_messages = [\n",
    "  \"La performance du système est plus lente que d'habitude.\",  # System performance is slower than normal         \n",
    "  \"Mi monitor tiene píxeles que no se iluminan.\",              # My monitor has pixels that are not lighting\n",
    "  \"Il mio mouse non funziona\",                                 # My mouse is not working\n",
    "  \"Mój klawisz Ctrl jest zepsuty\",                             # My keyboard has a broken control key\n",
    "  \"我的屏幕在闪烁\"                                               # My screen is flashing\n",
    "] "
   ]
  },
  {
   "cell_type": "code",
   "execution_count": null,
   "metadata": {},
   "outputs": [],
   "source": [
    "for issue in user_messages:\n",
    "    prompt = f\"Tell me what language this is: ```{issue}```\"\n",
    "    lang = get_completion(prompt)\n",
    "    print(f\"Original message ({lang}): {issue}\")\n",
    "\n",
    "    prompt = f\"\"\"\n",
    "    Translate the following  text to English \\\n",
    "    and Korean: ```{issue}```\n",
    "    \"\"\"\n",
    "    response = get_completion(prompt)\n",
    "    print(response, \"\\n\")"
   ]
  },
  {
   "attachments": {},
   "cell_type": "markdown",
   "metadata": {},
   "source": [
    "Original message (This is French.): La performance du système est plus lente que d'habitude.\n",
    "\n",
    "English: The system performance is slower than usual.\n",
    "\n",
    "Korean: 시스템 성능이 평소보다 느립니다. \n",
    "\n",
    "---\n",
    "\n",
    "Original message (This is Spanish.): Mi monitor tiene píxeles que no se iluminan.\n",
    "\n",
    "English: My monitor has pixels that don't light up.\n",
    "\n",
    "Korean: 내 모니터에는 불이 켜지지 않는 픽셀이 있습니다. \n",
    "\n",
    "---\n",
    "\n",
    "Original message (This is Italian.): Il mio mouse non funziona\n",
    "\n",
    "English: My mouse is not working.\n",
    "\n",
    "Korean: 내 마우스가 작동하지 않습니다. \n",
    "\n",
    "---\n",
    "\n",
    "Original message (This is Polish.): Mój klawisz Ctrl jest zepsuty\n",
    "\n",
    "English: My Ctrl key is broken.\n",
    "\n",
    "Korean: 제 Ctrl 키가 고장 났어요. \n",
    "\n",
    "---\n",
    "\n",
    "Original message (This is Chinese (Simplified).): 我的屏幕在闪烁\n",
    "\n",
    "English: My screen is flickering.\n",
    "\n",
    "Korean: 내 화면이 깜빡입니다. \n",
    "\n",
    "---"
   ]
  },
  {
   "attachments": {},
   "cell_type": "markdown",
   "metadata": {},
   "source": [
    "So, the original message in French. So, we have a variety of languages and then the model translates them into English and then Korean and you can kind of see here, so the model says this is French. So, that's because the response from this prompt is going to be this is French. You could try editing this prompt to say something like tell me what language this is, respond with only one word or don't use a sentence, that kind of thing, if you wanted this to just be kind of one word. Or you could kind of ask for it in a JSON format or something like that, which would probably encourage it to not use a whole sentence.\n",
    "\n",
    "프랑스어로 된 원본 메시지입니다. 그래서 우리는 다양한 언어를 가지고 있고 모델이 영어와 한국어로 번역하고 여기에서 볼 수 있듯이 모델이 이것은 프랑스어라고 말합니다. 이 프롬프트의 응답이 프랑스어이기 때문입니다. 이 프롬프트를 편집하여 어떤 언어인지 알려주세요, 한 단어로만 응답하세요, 문장을 사용하지 마세요, 이런 식으로 한 단어로만 응답하도록 할 수 있습니다. 또는 JSON 형식 등으로 요청하면 전체 문장을 사용하지 않도록 유도할 수 있습니다.\n",
    "\n",
    "And so, amazing, you've just built a universal translator. And also feel free to pause the video and add kind of any other languages you want to try here, maybe languages you speak yourself and see how the model does.\n",
    "\n",
    "놀랍게도 방금 범용 번역기를 만들었습니다. 또한 비디오를 일시 중지하고 여기에서 시도해보고 싶은 다른 언어, 예를 들어 직접 사용하는 언어를 추가하고 모델이 어떻게 작동하는지 확인해 보세요.\n",
    "\n",
    "## Tone Transformation\n",
    "Writing can vary based on the intended audience. ChatGPT can produce different tones.\n",
    "\n",
    "---\n",
    "\n",
    "So the next thing we're going to dive into is tone transformation. Writing can vary based on kind of an intended audience, you know, the way that I would write an email to a colleague or a professor is obviously going to be quite different to the way I text my younger brother.\n",
    "\n",
    "다음으로 살펴볼 것은 어조 변환입니다. 글쓰기는 대상의 종류에 따라 달라질 수 있습니다. 예를 들어 동료나 교수에게 이메일을 쓰는 방식과 동생에게 문자를 보내는 방식은 분명히 다를 것입니다.\n",
    "\n",
    "And so ChatGPT can actually also help produce different tones. So let's look at some examples. So in this first example, the prompt is, translate the following from slang to a business letter. Dude, this is Joe, check out this spec on the standing lamp. So, let's execute this.\n",
    "\n",
    "따라서 ChatGPT는 실제로 다양한 톤을 생성하는 데에도 도움이 될 수 있습니다. 몇 가지 예를 살펴 보겠습니다. 첫 번째 예에서는 속어를 비즈니스 편지로 번역하라는 메시지가 표시됩니다. 이봐요, 조입니다. 스탠드 램프의 사양을 확인해 보세요. 이제 실행해 봅시다."
   ]
  },
  {
   "cell_type": "code",
   "execution_count": null,
   "metadata": {},
   "outputs": [],
   "source": [
    "prompt = f\"\"\"\n",
    "Translate the following from slang to a business letter: \n",
    "'Dude, This is Joe, check out this spec on this standing lamp.'\n",
    "\"\"\"\n",
    "response = get_completion(prompt)\n",
    "print(response)"
   ]
  },
  {
   "attachments": {},
   "cell_type": "markdown",
   "metadata": {},
   "source": [
    "Dear Sir/Madam,\n",
    "\n",
    "I am writing to bring to your attention a standing lamp that I believe may be of interest to you. Please find attached the specifications for your review.\n",
    "\n",
    "Thank you for your time and consideration.\n",
    "\n",
    "Sincerely,\n",
    "\n",
    "Joe\n",
    "\n",
    "---"
   ]
  },
  {
   "attachments": {},
   "cell_type": "markdown",
   "metadata": {},
   "source": [
    "And as you can see, we have a much more formal business letter with a proposal for a standing lamp specification. \n",
    "\n",
    "보시다시피, 스탠딩 램프 사양에 대한 제안서가 포함된 훨씬 더 공식적인 비즈니스 서한이 있습니다.\n",
    "\n",
    "## Format Conversion\n",
    "ChatGPT can translate between formats. The prompt should describe the input and output formats.\n",
    "\n",
    "The next thing that we're going to do is to convert between different formats. ChatGPT is very good at translating between different formats such as JSON to HTML, you know, XML, all kinds of things. Markdown. And so in the prompt, we'll describe both the input and the output formats. So here is an example. So we have this JSON that contains a list of restaurant employees with their names and email. And then in the prompt, we're going to ask the model to translate this from JSON to HTML. So the prompt is, translate the following Python dictionary from JSON to an HTML table with column headers and titles.\n",
    "\n",
    "다음으로 할 일은 서로 다른 형식 간에 변환하는 것입니다. ChatGPT는 JSON에서 HTML, XML 등 다양한 형식 간 변환에 매우 능숙합니다. 마크다운. 따라서 프롬프트에서 입력 형식과 출력 형식을 모두 설명합니다. 여기 예시가 있습니다. 이름과 이메일이 포함된 레스토랑 직원 목록이 포함된 JSON이 있습니다. 그런 다음 프롬프트에서 모델에 이것을 JSON에서 HTML로 번역하도록 요청할 것입니다. 프롬프트는 다음 Python 사전을 JSON에서 열 머리글과 제목이 있는 HTML 테이블로 번역하라는 것입니다. "
   ]
  },
  {
   "cell_type": "code",
   "execution_count": null,
   "metadata": {},
   "outputs": [],
   "source": [
    "data_json = { \"resturant employees\" :[ \n",
    "    {\"name\":\"Shyam\", \"email\":\"shyamjaiswal@gmail.com\"},\n",
    "    {\"name\":\"Bob\", \"email\":\"bob32@gmail.com\"},\n",
    "    {\"name\":\"Jai\", \"email\":\"jai87@gmail.com\"}\n",
    "]}\n",
    "\n",
    "prompt = f\"\"\"\n",
    "Translate the following python dictionary from JSON to an HTML \\\n",
    "table with column headers and title: {data_json}\n",
    "\"\"\"\n",
    "response = get_completion(prompt)\n",
    "print(response)"
   ]
  },
  {
   "attachments": {},
   "cell_type": "markdown",
   "metadata": {},
   "source": [
    "```html\n",
    "<table>\n",
    "  <caption>Restaurant Employees</caption>\n",
    "  <thead>\n",
    "    <tr>\n",
    "      <th>Name</th>\n",
    "      <th>Email</th>\n",
    "    </tr>\n",
    "  </thead>\n",
    "  <tbody>\n",
    "    <tr>\n",
    "      <td>Shyam</td>\n",
    "      <td>shyamjaiswal@gmail.com</td>\n",
    "    </tr>\n",
    "    <tr>\n",
    "      <td>Bob</td>\n",
    "      <td>bob32@gmail.com</td>\n",
    "    </tr>\n",
    "    <tr>\n",
    "      <td>Jai</td>\n",
    "      <td>jai87@gmail.com</td>\n",
    "    </tr>\n",
    "  </tbody>\n",
    "</table>\n",
    "```"
   ]
  },
  {
   "attachments": {},
   "cell_type": "markdown",
   "metadata": {},
   "source": [
    "And then we'll get the response from the model and print it. So here we have some HTML displaying all of the employee names and emails. And so now let's see if we can actually view this HTML.\n",
    "\n",
    "그런 다음 모델에서 응답을 가져와서 인쇄합니다. 여기에는 모든 직원 이름과 이메일이 표시된 HTML이 있습니다. 이제 이 HTML을 실제로 볼 수 있는지 확인해 보겠습니다.\n",
    "\n",
    "So we're going to use this display function from this Python library. Display HTML response. And here you can see that this is a properly formatted HTML table.\n",
    "\n",
    "이 파이썬 라이브러리에서 이 디스플레이 함수를 사용하겠습니다. HTML 응답을 표시합니다. 여기에서 이것이 제대로 형식이 지정된 HTML 테이블임을 알 수 있습니다. "
   ]
  },
  {
   "cell_type": "code",
   "execution_count": null,
   "metadata": {
    "vscode": {
     "languageId": "plaintext"
    }
   },
   "outputs": [],
   "source": [
    "from IPython.display import display, Markdown, Latex, HTML, JSON\n",
    "display(HTML(response))"
   ]
  },
  {
   "attachments": {},
   "cell_type": "markdown",
   "metadata": {},
   "source": [
    "Restaurant Employees\n",
    "|Name|\tEmail|\n",
    "|--|--|\n",
    "|Shyam|\tshyamjaiswal@gmail.com|\n",
    "|Bob|\tbob32@gmail.com|\n",
    "|Jai|\tjai87@gmail.com|\n",
    "\n",
    "---"
   ]
  },
  {
   "attachments": {},
   "cell_type": "markdown",
   "metadata": {},
   "source": [
    "## Spellcheck/Grammar check.\n",
    "\n",
    "Here are some examples of common grammar and spelling problems and the LLM's response. \n",
    "\n",
    "다음은 일반적인 문법 및 철자 문제와 LLM의 응답에 대한 몇 가지 예입니다. \n",
    "\n",
    "To signal to the LLM that you want it to proofread your text, you instruct the model to 'proofread' or 'proofread and correct'.\n",
    "\n",
    "LLM에 텍스트를 교정해 달라는 신호를 보내려면 모델에 '교정' 또는 '교정 및 수정'을 지시합니다.\n",
    "\n",
    "---\n",
    "\n",
    "The next transformation task we're going to do is spell check and grammar checking. And this is a really kind of popular use for chat GPT. I highly recommend doing this. I do this all the time. And it's especially useful when you're working in a non-native language. And so here are some examples of some kind of common grammar and spelling problems and how the language model can help address these.\n",
    "\n",
    "다음으로 진행할 변환 작업은 맞춤법 검사 및 문법 검사입니다. 이것은 chat GPT에서 매우 많이 사용되는 기능입니다. 저는 이 작업을 강력히 추천합니다. 저는 항상 이 작업을 합니다. 특히 모국어가 아닌 언어로 작업할 때 유용합니다. 다음은 몇 가지 일반적인 문법 및 철자 문제와 언어 모델이 이러한 문제를 해결하는 데 어떻게 도움이 되는지 보여주는 몇 가지 예입니다.\n",
    "\n",
    "So I'm going to paste in a list of sentences that have some kind of grammatical or spelling errors. And then we're going to loop through each of these sentences. And ask the model to proofread these. Proofread and correct. And then we'll use some delimiters. And then we will get the response and print it as usual. And so the model is able to correct all of these grammatical errors.\n",
    "\n",
    "그래서 문법이나 철자 오류가 있는 문장 목록을 붙여넣겠습니다. 그런 다음 각 문장을 반복해서 읽어보겠습니다. 그리고 모델에게 이 문장들을 교정해 달라고 요청합니다. 교정하고 수정합니다. 그런 다음 몇 가지 구분 기호를 사용합니다. 그런 다음 응답을 받아 평소처럼 출력합니다. 그러면 모델이 이러한 모든 문법 오류를 수정할 수 있습니다."
   ]
  },
  {
   "cell_type": "code",
   "execution_count": null,
   "metadata": {
    "vscode": {
     "languageId": "plaintext"
    }
   },
   "outputs": [],
   "source": [
    "text = [ \n",
    "  \"The girl with the black and white puppies have a ball.\",  # The girl has a ball.\n",
    "  \"Yolanda has her notebook.\", # ok\n",
    "  \"Its going to be a long day. Does the car need it’s oil changed?\",  # Homonyms\n",
    "  \"Their goes my freedom. There going to bring they’re suitcases.\",  # Homonyms\n",
    "  \"Your going to need you’re notebook.\",  # Homonyms\n",
    "  \"That medicine effects my ability to sleep. Have you heard of the butterfly affect?\", # Homonyms\n",
    "  \"This phrase is to cherck chatGPT for speling abilitty\"  # spelling\n",
    "]\n",
    "for t in text:\n",
    "    prompt = f\"Proofread and correct: ```{t}```\"\n",
    "    response = get_completion(prompt)\n",
    "    print(response)"
   ]
  },
  {
   "attachments": {},
   "cell_type": "markdown",
   "metadata": {},
   "source": [
    "\"The girl with the black and white puppies has a ball.\"\n",
    "\n",
    "There are no errors in this sentence.\n",
    "\n",
    "\"It's going to be a long day. Does the car need its oil changed?\"\n",
    "\n",
    "\"There goes my freedom. They're going to bring their suitcases.\"\n",
    "\n",
    "\"You're going to need your notebook.\"\n",
    "\n",
    "\"That medicine affects my ability to sleep. Have you heard of the butterfly effect?\"\n",
    "\n",
    "This phrase is to check ChatGPT for spelling ability."
   ]
  },
  {
   "attachments": {},
   "cell_type": "markdown",
   "metadata": {},
   "source": [
    "We could use some of the techniques that we've discussed before. So to improve the prompt, we could say proofread and correct the following text. And rewrite the whole... And rewrite it. Corrected version. If you don't find any errors, just say no errors found. Let's try this.\n",
    "\n",
    "앞서 설명한 몇 가지 기법을 사용할 수 있습니다. 따라서 프롬프트를 개선하기 위해 다음 텍스트를 교정하고 수정한다고 말할 수 있습니다. 그리고 전체를 다시 작성합니다... 그리고 다시 작성하세요. 수정된 버전입니다. 오류를 찾지 못하면 오류 없음이라고 말하면 됩니다. 이렇게 해봅시다. "
   ]
  },
  {
   "cell_type": "code",
   "execution_count": null,
   "metadata": {
    "vscode": {
     "languageId": "plaintext"
    }
   },
   "outputs": [],
   "source": [
    "text = [ \n",
    "  \"The girl with the black and white puppies have a ball.\",  # The girl has a ball.\n",
    "  \"Yolanda has her notebook.\", # ok\n",
    "  \"Its going to be a long day. Does the car need it’s oil changed?\",  # Homonyms\n",
    "  \"Their goes my freedom. There going to bring they’re suitcases.\",  # Homonyms\n",
    "  \"Your going to need you’re notebook.\",  # Homonyms\n",
    "  \"That medicine effects my ability to sleep. Have you heard of the butterfly affect?\", # Homonyms\n",
    "  \"This phrase is to cherck chatGPT for speling abilitty\"  # spelling\n",
    "]\n",
    "for t in text:\n",
    "    prompt = f\"\"\"Proofread and correct the following text\n",
    "    and rewrite the corrected version. If you don't find\n",
    "    and errors, just say \"No errors found\". Don't use \n",
    "    any punctuation around the text:\n",
    "    ```{t}```\"\"\"\n",
    "    response = get_completion(prompt)\n",
    "    print(response)"
   ]
  },
  {
   "attachments": {},
   "cell_type": "markdown",
   "metadata": {},
   "source": [
    "The girl with the black and white puppies has a ball.\n",
    "\n",
    "No errors found.\n",
    "\n",
    "It's going to be a long day. Does the car need its oil changed?\n",
    "\n",
    "Their goes my freedom. There going to bring they're suitcases.\n",
    "\n",
    "---\n",
    "\n",
    "Corrected version: \n",
    "\n",
    "There goes my freedom. They're going to bring their suitcases.\n",
    "\n",
    "You're going to need your notebook.\n",
    "\n",
    "That medicine affects my ability to sleep. Have you heard of the butterfly effect?\n",
    "\n",
    "This phrase is to check ChatGPT for spelling ability.\n",
    "\n",
    "---"
   ]
  },
  {
   "attachments": {},
   "cell_type": "markdown",
   "metadata": {},
   "source": [
    "So this way we were able to... Oh, they're still using quotes here. But you can imagine you'd be able to find a way with a little bit of iterative prompt development to kind of find a prompt that works more reliably every single time.\n",
    "\n",
    "그래서 이렇게 할 수 있었습니다... 아, 여기서는 여전히 따옴표를 사용하고 있습니다(**영상에서는 결과에 따옴표를 사용하지만 직접 해본 결과에서는 따옴표가 없었음**). 하지만 약간의 반복적인 프롬프트 개발을 통해 매번 더 안정적으로 작동하는 프롬프트를 찾을 수 있는 방법을 찾을 수 있을 것이라고 상상할 수 있습니다.\n",
    "\n",
    "And so now we'll do another example. It's always useful to check your text before you post it in a public forum. And so we'll go through an example of checking a review. And so here is a review about a stuffed panda. And so we're going to ask the model to proofread and correct the review.\n",
    "\n",
    "이제 다른 예를 들어보겠습니다. 공개 포럼에 글을 게시하기 전에 항상 텍스트를 확인하는 것이 유용합니다. 그래서 리뷰를 확인하는 예를 살펴보겠습니다. 여기 팬더 인형에 대한 리뷰가 있습니다. 이제 모델에게 리뷰를 교정하고 수정해 달라고 요청하겠습니다."
   ]
  },
  {
   "cell_type": "code",
   "execution_count": null,
   "metadata": {
    "vscode": {
     "languageId": "plaintext"
    }
   },
   "outputs": [],
   "source": [
    "text = f\"\"\"\n",
    "Got this for my daughter for her birthday cuz she keeps taking \\\n",
    "mine from my room.  Yes, adults also like pandas too.  She takes \\\n",
    "it everywhere with her, and it's super soft and cute.  One of the \\\n",
    "ears is a bit lower than the other, and I don't think that was \\\n",
    "designed to be asymmetrical. It's a bit small for what I paid for it \\\n",
    "though. I think there might be other options that are bigger for \\\n",
    "the same price.  It arrived a day earlier than expected, so I got \\\n",
    "to play with it myself before I gave it to my daughter.\n",
    "\"\"\"\n",
    "prompt = f\"proofread and correct this review: ```{text}```\"\n",
    "response = get_completion(prompt)\n",
    "print(response)"
   ]
  },
  {
   "attachments": {},
   "cell_type": "markdown",
   "metadata": {},
   "source": [
    "I got this for my daughter's birthday because she keeps taking mine from my room. Yes, adults also like pandas too. She takes it everywhere with her, and it's super soft and cute. However, one of the ears is a bit lower than the other, and I don't think that was designed to be asymmetrical. Additionally, it's a bit small for what I paid for it. I think there might be other options that are bigger for the same price. On the positive side, it arrived a day earlier than expected, so I got to play with it myself before I gave it to my daughter.\n",
    "\n",
    "---"
   ]
  },
  {
   "attachments": {},
   "cell_type": "markdown",
   "metadata": {},
   "source": [
    "Great. So we have this corrected version. And one cool thing we can do is find the kind of differences between our original review and the model's output.\n",
    "\n",
    "좋아요. 이제 수정된 버전이 생겼습니다. 그리고 우리가 할 수 있는 한 가지 멋진 일은 원래의 리뷰와 모델의 결과물 사이에 어떤 차이점이 있는지 찾는 것입니다.\n",
    "\n",
    "So we're going to use this RedLines Python package to do this. And we're going to get the diff between the original text of our review and the model output and then display this.\n",
    "\n",
    "이를 위해 이 RedLines Python 패키지를 사용하겠습니다. 그리고 리뷰의 원본 텍스트와 모델 출력의 차이를 구한 다음 이것을 표시하겠습니다."
   ]
  },
  {
   "cell_type": "code",
   "execution_count": null,
   "metadata": {
    "vscode": {
     "languageId": "plaintext"
    }
   },
   "outputs": [],
   "source": [
    "from redlines import Redlines\n",
    "\n",
    "diff = Redlines(text,response)\n",
    "display(Markdown(diff.output_markdown))"
   ]
  },
  {
   "attachments": {},
   "cell_type": "markdown",
   "metadata": {},
   "source": [
    "Got I got this for my daughter for her daughter's birthday cuz because she keeps taking mine from my room. room. Yes, adults also like pandas too. too. She takes it everywhere with her, and it's super soft and cute. One cute. However, one of the ears is a bit lower than the other, and I don't think that was designed to be asymmetrical. It's Additionally, it's a bit small for what I paid for it though. it. I think there might be other options that are bigger for the same price. It price. On the positive side, it arrived a day earlier than expected, so I got to play with it myself before I gave it to my daughter. daughter.\n",
    "\n",
    "(실제로는 차이가 나는 곳에 빨간색과 삭선 표시됨)\n",
    "\n",
    "---"
   ]
  },
  {
   "attachments": {},
   "cell_type": "markdown",
   "metadata": {},
   "source": [
    "And so here you can see the diff between the original review and the model output and the kind of things that have been corrected. So the prompt that we used was, uhm, proofread and correct this review, but you can also make kind of more dramatic changes, uhm, kind of changes to tone and that kind of thing.\n",
    "\n",
    "여기에서 원본 리뷰와 모델 결과물 간의 차이점과 수정된 내용을 확인할 수 있습니다. 그래서 저희가 사용한 프롬프트는 이 리뷰를 교정하고 수정하는 것이었지만, 어조를 변경하는 등 좀 더 드라마틱한 변화를 줄 수도 있습니다.\n",
    "\n",
    "So, let's try one more thing. So in this prompt, we're going to ask the model to proofread and correct this same review, but also make it more compelling and ensure that it follows APA style and targets an advanced reader.\n",
    "\n",
    "이제 한 가지 더 시도해 봅시다. 이 프롬프트에서는 모델에게 동일한 리뷰를 교정하고 수정하도록 요청하되, 더 설득력 있게 작성하고 APA 스타일을 따르고 고급 독자를 타깃으로 하도록 할 것입니다.\n",
    "\n",
    "And we're also going to ask for the output in markdown format. And so we're using the same text from the original review up here. So let's execute this.\n",
    "\n",
    "또한 마크다운 형식으로 출력을 요청할 것입니다. 따라서 여기에는 원본 리뷰의 텍스트를 그대로 사용하고 있습니다. 이제 실행해 봅시다."
   ]
  },
  {
   "cell_type": "code",
   "execution_count": null,
   "metadata": {
    "vscode": {
     "languageId": "plaintext"
    }
   },
   "outputs": [],
   "source": [
    "prompt = f\"\"\"\n",
    "proofread and correct this review. Make it more compelling. \n",
    "Ensure it follows APA style guide and targets an advanced reader. \n",
    "Output in markdown format.\n",
    "Text: ```{text}```\n",
    "\"\"\"\n",
    "response = get_completion(prompt)\n",
    "display(Markdown(response))"
   ]
  },
  {
   "attachments": {},
   "cell_type": "markdown",
   "metadata": {},
   "source": [
    "Title: A Soft and Cute Panda Plush Toy for All Ages\n",
    "\n",
    "Introduction: As a parent, finding the perfect gift for your child's birthday can be a daunting task. However, I stumbled upon a soft and cute panda plush toy that not only made my daughter happy but also brought joy to me as an adult. In this review, I will share my experience with this product and provide an honest assessment of its features.\n",
    "\n",
    "Product Description: The panda plush toy is made of high-quality materials that make it super soft and cuddly. Its cute design is perfect for children and adults alike, making it a versatile gift option. The toy is small enough to carry around, making it an ideal companion for your child on their adventures.\n",
    "\n",
    "Pros: The panda plush toy is incredibly soft and cute, making it an excellent gift for children and adults. Its small size makes it easy to carry around, and its design is perfect for snuggling. The toy arrived a day earlier than expected, which was a pleasant surprise.\n",
    "\n",
    "Cons: One of the ears is a bit lower than the other, which makes the toy asymmetrical. Additionally, the toy is a bit small for its price, and there might be other options that are bigger for the same price.\n",
    "\n",
    "Conclusion: Overall, the panda plush toy is an excellent gift option for children and adults who love cute and cuddly toys. Despite its small size and asymmetrical design, the toy's softness and cuteness make up for its shortcomings. If you're looking for a versatile gift option that will bring joy to your child and yourself, this panda plush toy is an excellent choice.\n",
    "\n",
    "---"
   ]
  },
  {
   "attachments": {},
   "cell_type": "markdown",
   "metadata": {},
   "source": [
    "And here we have a expanded APA style review of the SoftPanda. So this is it for the transforming video. Next up we have expanding where we'll take a shorter prompt and kind of generate a longer, more freeform response from a language model. \n",
    "\n",
    "소프트판다에 대한 확장된 APA 스타일 리뷰가 여기 있습니다. 변형 비디오는 여기까지입니다. 다음에는 더 짧은 프롬프트를 사용하여 언어 모델에서 더 길고 자유로운 형식의 응답을 생성하는 방법을 확장해 보겠습니다."
   ]
  }
 ],
 "metadata": {
  "language_info": {
   "name": "python"
  },
  "orig_nbformat": 4
 },
 "nbformat": 4,
 "nbformat_minor": 2
}
