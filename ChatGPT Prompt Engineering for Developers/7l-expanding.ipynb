{
 "cells": [
  {
   "attachments": {},
   "cell_type": "markdown",
   "metadata": {},
   "source": [
    "# Expanding\n",
    "In this lesson, you will generate customer service emails that are tailored to each customer's review.\n",
    "\n",
    "---\n",
    "\n",
    "Expanding is the task of taking a short piece of text, such as a set of instructions or a list of topics, and having the large language model generate a longer piece of text, such as an email or an essay about some topic. There are some great uses of this, such as if you use a large language model as a brainstorming partner. But I just also want to acknowledge that there are some problematic use cases of this, such as if someone were to use it, they generate a large amount of spam. So when you use these capabilities of a large language model, please use it only in a responsible way and in a way that helps people.\n",
    "\n",
    "확장은 일련의 지침이나 주제 목록과 같은 짧은 텍스트를 가져와서 큰 언어 모델에서 이메일이나 특정 주제에 대한 에세이와 같은 긴 텍스트를 생성하도록 하는 작업입니다. 브레인스토밍 파트너로 큰 언어 모델을 사용하는 경우와 같이 이 기능을 유용하게 사용할 수 있습니다. 하지만 누군가가 이 기능을 사용하면 대량의 스팸을 생성하는 등 문제가 될 수 있는 사용 사례도 있다는 점을 인정하고 싶습니다. 따라서 대규모 언어 모델의 이러한 기능을 사용할 때는 책임감 있는 방식으로 사람들에게 도움이 되는 방식으로만 사용해 주시기 바랍니다.\n",
    "\n",
    "In this video we'll go through an example of how you can use a language model to generate a personalized email based on some information. The email is kind of self-proclaimed to be from an AI bot which as Andrew mentioned is very important. We're also going to use another one of the models input parameters called temperature and this kind of allows you to vary the kind of degree of exploration and variety in the kind of models responses. So let's get into it.\n",
    "\n",
    "이 비디오에서는 언어 모델을 사용하여 몇 가지 정보를 기반으로 개인화된 이메일을 생성하는 방법에 대한 예제를 살펴봅니다. 이 이메일은 앤드류가 언급했듯이 인공지능 봇이 보낸 것으로 보이는데, 이는 매우 중요합니다. 또한 온도라는 또 다른 모델 입력 매개 변수를 사용할 것이며, 이를 통해 탐색의 정도와 모델 응답의 종류를 다양하게 변경할 수 있습니다. 그럼 시작해 보겠습니다.\n",
    "\n",
    "## Setup\n",
    "\n",
    "So before we get started we're going to kind of do the usual setup. So set up the OpenAI Python package and then also define our helper function getCompletion and now we're going to write a custom email response to a customer review and so given a customer review and the sentiment we're going to generate a custom response.\n",
    "\n",
    "시작하기 전에 일반적인 설정을 해보겠습니다. OpenAI Python 패키지를 설정한 다음 도우미 함수 getCompletion을 정의하고 이제 고객 리뷰에 대한 사용자 지정 이메일 응답을 작성하여 고객 리뷰와 감정이 주어지면 사용자 지정 응답을 생성하겠습니다."
   ]
  },
  {
   "cell_type": "code",
   "execution_count": null,
   "metadata": {},
   "outputs": [],
   "source": [
    "import openai\n",
    "import os\n",
    "\n",
    "from dotenv import load_dotenv, find_dotenv\n",
    "_ = load_dotenv(find_dotenv()) # read local .env file\n",
    "\n",
    "openai.api_key  = os.getenv('OPENAI_API_KEY')"
   ]
  },
  {
   "cell_type": "code",
   "execution_count": null,
   "metadata": {},
   "outputs": [],
   "source": [
    "def get_completion(prompt, model=\"gpt-3.5-turbo\",temperature=0): # Andrew mentioned that the prompt/ completion paradigm is preferable for this class\n",
    "    messages = [{\"role\": \"user\", \"content\": prompt}]\n",
    "    response = openai.ChatCompletion.create(\n",
    "        model=model,\n",
    "        messages=messages,\n",
    "        temperature=temperature, # this is the degree of randomness of the model's output\n",
    "    )\n",
    "    return response.choices[0].message[\"content\"]"
   ]
  },
  {
   "attachments": {},
   "cell_type": "markdown",
   "metadata": {},
   "source": [
    "## Customize the automated reply to a customer email\n",
    "\n",
    "Now we're going to use the language model to generate a custom email to a customer based on a customer review and the sentiment of the review. So we've already extracted the sentiment using the kind of prompts that we saw in the inferring video and then this is the customer review for a blender and now we're going to customize the reply based on the sentiment.\n",
    "\n",
    "이제 언어 모델을 사용하여 고객 리뷰와 리뷰의 감성을 기반으로 고객에게 사용자 지정 이메일을 생성하겠습니다. 추론 비디오에서 보았던 프롬프트 유형을 사용하여 이미 감성을 추출했으며, 이제 블렌더에 대한 고객 리뷰이므로 이 감성을 기반으로 답장을 사용자 지정하겠습니다."
   ]
  },
  {
   "cell_type": "code",
   "execution_count": null,
   "metadata": {},
   "outputs": [],
   "source": [
    "# given the sentiment from the lesson on \"inferring\",\n",
    "# and the original customer message, customize the email\n",
    "sentiment = \"negative\"\n",
    "\n",
    "# review for a blender\n",
    "review = f\"\"\"\n",
    "So, they still had the 17 piece system on seasonal \\\n",
    "sale for around $49 in the month of November, about \\\n",
    "half off, but for some reason (call it price gouging) \\\n",
    "around the second week of December the prices all went \\\n",
    "up to about anywhere from between $70-$89 for the same \\\n",
    "system. And the 11 piece system went up around $10 or \\\n",
    "so in price also from the earlier sale price of $29. \\\n",
    "So it looks okay, but if you look at the base, the part \\\n",
    "where the blade locks into place doesn’t look as good \\\n",
    "as in previous editions from a few years ago, but I \\\n",
    "plan to be very gentle with it (example, I crush \\\n",
    "very hard items like beans, ice, rice, etc. in the \\ \n",
    "blender first then pulverize them in the serving size \\\n",
    "I want in the blender then switch to the whipping \\\n",
    "blade for a finer flour, and use the cross cutting blade \\\n",
    "first when making smoothies, then use the flat blade \\\n",
    "if I need them finer/less pulpy). Special tip when making \\\n",
    "smoothies, finely cut and freeze the fruits and \\\n",
    "vegetables (if using spinach-lightly stew soften the \\ \n",
    "spinach then freeze until ready for use-and if making \\\n",
    "sorbet, use a small to medium sized food processor) \\ \n",
    "that you plan to use that way you can avoid adding so \\\n",
    "much ice if at all-when making your smoothie. \\\n",
    "After about a year, the motor was making a funny noise. \\\n",
    "I called customer service but the warranty expired \\\n",
    "already, so I had to buy another one. FYI: The overall \\\n",
    "quality has gone done in these types of products, so \\\n",
    "they are kind of counting on brand recognition and \\\n",
    "consumer loyalty to maintain sales. Got it in about \\\n",
    "two days.\n",
    "\"\"\""
   ]
  },
  {
   "attachments": {},
   "cell_type": "markdown",
   "metadata": {},
   "source": [
    "And so here the instruction is you are a customer service AI assistant your task is to send an email reply to about your customer given the customer email delimited by three backticks generate a reply to thank the customer for their review. If the sentiment is positive or neutral thank them for their review. If the sentiment is negative apologize and suggest that they can reach out to customer service. Make sure to use specific details from the review write in a concise and professional tone and sign the email as AI customer agent. And when you're using a language model to generate text that you're going to show to a user it's very important to have this kind of transparency and let the user know that the text they're seeing was generated by AI.\n",
    "\n",
    "여기서 여러분은 고객 서비스 AI 어시스턴트로서 백틱 세 개로 구분된 고객 이메일이 주어지면 고객에 대한 이메일 답장을 보내 고객의 리뷰에 감사하는 답장을 생성하는 것이 임무입니다. 감정이 긍정적이거나 중립적일 경우 리뷰에 대해 감사하다는 내용을 담습니다. 부정적인 감정인 경우 사과하고 고객 서비스에 문의할 수 있도록 제안합니다. 리뷰의 구체적인 내용을 간결하고 전문적인 어조로 작성하고 이메일에 AI 고객 상담원 자격으로 서명하세요. 언어 모델을 사용하여 사용자에게 보여줄 텍스트를 생성할 때는 이러한 투명성을 확보하고 사용자에게 표시되는 텍스트가 AI에 의해 생성되었다는 사실을 알리는 것이 매우 중요합니다.\n",
    "\n",
    "And then we'll just input the customer review and the review sentiment. And also note that this part isn't necessarily important because we could actually use this prompt to also extract the review sentiment and then in a follow-up step write the email. But just for the sake of the example, well, we've already extracted the sentiment from the review. \n",
    "\n",
    "그런 다음 고객 리뷰와 리뷰 감성을 입력하기만 하면 됩니다. 이 프롬프트를 사용하여 리뷰 감정을 추출한 다음 후속 단계에서 이메일을 작성할 수도 있으므로 이 부분이 반드시 중요하지는 않습니다. 하지만 예시를 위해 이미 리뷰에서 감정을 추출했습니다."
   ]
  },
  {
   "cell_type": "code",
   "execution_count": null,
   "metadata": {},
   "outputs": [],
   "source": [
    "prompt = f\"\"\"\n",
    "You are a customer service AI assistant.\n",
    "Your task is to send an email reply to a valued customer.\n",
    "Given the customer email delimited by ```, \\\n",
    "Generate a reply to thank the customer for their review.\n",
    "If the sentiment is positive or neutral, thank them for \\\n",
    "their review.\n",
    "If the sentiment is negative, apologize and suggest that \\\n",
    "they can reach out to customer service. \n",
    "Make sure to use specific details from the review.\n",
    "Write in a concise and professional tone.\n",
    "Sign the email as `AI customer agent`.\n",
    "Customer review: ```{review}```\n",
    "Review sentiment: {sentiment}\n",
    "\"\"\"\n",
    "response = get_completion(prompt)\n",
    "print(response)"
   ]
  },
  {
   "attachments": {},
   "cell_type": "markdown",
   "metadata": {},
   "source": [
    "Dear Valued Customer,\n",
    "\n",
    "Thank you for taking the time to leave a review about our product. We are sorry to hear that you experienced an increase in price and that the quality of the product did not meet your expectations. We apologize for any inconvenience this may have caused you.\n",
    "\n",
    "We would like to assure you that we take all feedback seriously and we will be sure to pass your comments along to our team. If you have any further concerns, please do not hesitate to reach out to our customer service team for assistance.\n",
    "\n",
    "Thank you again for your review and for choosing our product. We hope to have the opportunity to serve you better in the future.\n",
    "\n",
    "Best regards,\n",
    "\n",
    "AI customer agent\n",
    "\n",
    "---"
   ]
  },
  {
   "attachments": {},
   "cell_type": "markdown",
   "metadata": {},
   "source": [
    "And so, here we have a response to the customer. It kind of addresses details that the customer mentioned in their review. And kind of as we instructed, suggests that they reach out to customer service because this is just an AI customer service agent. \n",
    "\n",
    "이제 고객에 대한 응답이 작성되었습니다. 고객이 리뷰에서 언급한 세부 사항에 대한 답변입니다. 그리고 우리가 지시한 대로 AI 고객 서비스 에이전트이므로 고객 서비스 센터에 연락할 것을 제안합니다.\n",
    "\n",
    "## Remind the model to use details from the customer's email\n",
    "\n",
    "Next, we're going to use a parameter of the language model called temperature that will allow us to change the kind of variety of the model's responses. So you can kind of think of temperature as the degree of exploration or kind of randomness of the model. And so, for this particular phrase, my favourite food is the kind of most likely next word that the model predicts is pizza and the kind of next to most likely it suggests are sushi and tacos.\n",
    "\n",
    "다음으로, 온도라는 언어 모델의 매개 변수를 사용하여 모델의 응답 종류를 다양하게 변경할 수 있습니다. 따라서 온도는 모델의 탐색 정도 또는 일종의 무작위성이라고 생각할 수 있습니다. 따라서 이 특정 문구에서 제가 가장 좋아하는 음식은 모델이 예측하는 가장 가능성이 높은 다음 단어는 피자이고 가장 가능성이 높은 다음 단어는 초밥과 타코입니다.\n",
    "\n",
    "And so, at a temperature of zero, the model will always choose the most likely next word, which in this case is pizza, and at a higher temperature, it will kind of also choose one of the less likely words and at an even higher temperature, it might even choose tacos, which only kind of has a five percent chance of being chosen.\n",
    "\n",
    "따라서 온도가 0일 때는 모델이 항상 가장 가능성이 높은 다음 단어(이 경우 피자)를 선택하고, 온도가 높을 때는 가능성이 낮은 단어 중 하나를 선택하며, 더 높은 온도에서는 선택 확률이 5%에 불과한 타코를 선택할 수도 있습니다.\n",
    "\n",
    "And you can imagine that kind of, as the model continues this final response, so my favourite food is pizza and it kind of continues to generate more words, this response will kind of diverge from the response, the first response, which is my favourite food is tacos. And so, as the kind of model continues, these two responses will become more and more different.\n",
    "\n",
    "모델이 이 마지막 응답을 계속하면서 제가 가장 좋아하는 음식은 피자이고 계속해서 더 많은 단어를 생성함에 따라 이 응답은 첫 번째 응답인 제가 가장 좋아하는 음식은 타코라는 응답과 다소 달라질 것이라고 상상할 수 있습니다. 따라서 이러한 종류의 모델이 계속됨에 따라 이 두 가지 응답은 점점 더 달라질 것입니다.\n",
    "\n",
    "In general, when building applications where you want a kind of predictable response, I would recommend using temperature zero.\n",
    "\n",
    "일반적으로 예측 가능한 응답이 필요한 애플리케이션을 구축할 때는 온도 0을 사용하는 것이 좋습니다.\n",
    "\n",
    "Throughout all of these videos, we've been using temperature zero and I think that if you're trying to build a system that is reliable and predictable, you should go with this. If you're trying to kind of use the model in a more creative way where you might kind of want a kind of wider variety of different outputs, you might want to use a higher temperature.\n",
    "\n",
    "이 모든 비디오에서 우리는 온도 0을 사용해 왔으며, 신뢰할 수 있고 예측 가능한 시스템을 구축하려는 경우 이 온도를 사용하는 것이 좋습니다. 좀 더 창의적인 방식으로 모델을 사용하여 좀 더 다양한 출력을 원한다면 더 높은 온도를 사용하는 것이 좋습니다.\n",
    "\n",
    "So, now let's take this same prompt that we just used and let's try generating an email, but let's use a higher temperature. So, in our getCompletion function that we've been using throughout the videos, we have kind of specified a model and then also a temperature, but we've kind of set them to default.\n",
    "\n",
    "이제 방금 사용한 것과 동일한 프롬프트를 사용하여 이메일을 생성해 보되 더 높은 온도를 사용해 보겠습니다. 동영상 전체에 걸쳐 사용했던 getCompletion 함수에서 모델과 온도를 지정했지만 기본값으로 설정했습니다.\n",
    "\n",
    "So, now let's try varying the temperature. So, we'll use the prompt and then let's try temperature 0.7. And so, with temperature 0, every time you execute the same prompt, you should expect the same completion. Whereas with temperature 0.7, you'll get a different output every time.\n",
    "\n",
    "이제 온도를 변경해 보겠습니다. 프롬프트를 사용한 다음 온도 0.7을 사용해 보겠습니다. 따라서 온도 0에서는 동일한 프롬프트를 실행할 때마다 동일한 완료를 기대할 수 있습니다. 반면 온도 0.7을 사용하면 매번 다른 출력을 얻을 수 있습니다."
   ]
  },
  {
   "cell_type": "code",
   "execution_count": null,
   "metadata": {},
   "outputs": [],
   "source": [
    "prompt = f\"\"\"\n",
    "You are a customer service AI assistant.\n",
    "Your task is to send an email reply to a valued customer.\n",
    "Given the customer email delimited by ```, \\\n",
    "Generate a reply to thank the customer for their review.\n",
    "If the sentiment is positive or neutral, thank them for \\\n",
    "their review.\n",
    "If the sentiment is negative, apologize and suggest that \\\n",
    "they can reach out to customer service. \n",
    "Make sure to use specific details from the review.\n",
    "Write in a concise and professional tone.\n",
    "Sign the email as `AI customer agent`.\n",
    "Customer review: ```{review}```\n",
    "Review sentiment: {sentiment}\n",
    "\"\"\"\n",
    "response = get_completion(prompt, temperature=0.7)\n",
    "print(response)"
   ]
  },
  {
   "attachments": {},
   "cell_type": "markdown",
   "metadata": {},
   "source": [
    "Dear Valued Customer,\n",
    "\n",
    "Thank you for your recent review. We are sorry to hear that you had a negative experience with our product and that the price increase did not meet your expectations. We apologize for any inconvenience this may have caused.\n",
    "\n",
    "We appreciate your feedback regarding the base of the product and the motor. We will take your comments into consideration as we continue to improve our products and services.\n",
    "\n",
    "If you have any further concerns, please do not hesitate to reach out to our customer service team. They are available to assist you with any questions or concerns you may have.\n",
    "\n",
    "Thank you again for your review, and we hope to have the opportunity to serve you better in the future.\n",
    "\n",
    "Sincerely,\n",
    "\n",
    "AI customer agent\n",
    "\n",
    "---"
   ]
  },
  {
   "attachments": {},
   "cell_type": "markdown",
   "metadata": {},
   "source": [
    "So, here we have our email, and as you can see, it's different to the email that we kind of received previously. And let's just execute it again, to show that we'll get a different email again.\n",
    "\n",
    "여기 이메일이 있는데, 보시다시피 이전에 받았던 이메일과 다른 이메일이 있습니다. 이제 다시 실행하여 다른 이메일이 다시 수신된다는 것을 보여 드리겠습니다. \n",
    "\n"
   ]
  },
  {
   "attachments": {},
   "cell_type": "markdown",
   "metadata": {},
   "source": [
    "---\n",
    "\n",
    "Dear Valued Customer,\n",
    "\n",
    "Thank you for taking the time to leave a review of our 17 piece system. We apologize for any inconvenience you experienced with the pricing of the product. We aim to offer competitive pricing, and we apologize if our pricing didn't meet your expectations. We appreciate your feedback regarding the quality of the product and will take your comments into consideration for future improvements.\n",
    "\n",
    "We are sorry to hear about the issue with the motor. We suggest that you reach out to our customer service team for assistance. They will be happy to help you with any concerns you have with the product. Please feel free to contact us at your convenience.\n",
    "\n",
    "Thank you for your loyalty to our brand, and we hope to continue to serve you in the future.\n",
    "\n",
    "Best regards,\n",
    "\n",
    "AI customer agent\n",
    "\n",
    "---"
   ]
  },
  {
   "attachments": {},
   "cell_type": "markdown",
   "metadata": {},
   "source": [
    "And here we have another different email. And so, I recommend that you kind of play around with temperature yourself. Maybe you could pause the video now and try this prompt with a variety of different temperatures, just to see how the outputs vary.\n",
    "\n",
    "그리고 여기 또 다른 이메일이 있습니다. 따라서 직접 온도를 가지고 놀아보는 것이 좋습니다. 지금 비디오를 일시 중지하고 다양한 온도에서 이 프롬프트를 시도하여 출력이 어떻게 달라지는지 확인할 수 있습니다.\n",
    "\n",
    "So, to summarise, at higher temperatures, the outputs from the model are kind of more random. You can almost think of it as that at higher temperatures, the assistant is more distractible, but maybe more creative. In the next video, we're going to talk more about the Chat Completions Endpoint format, and how you can create a custom chatbot using this format.\n",
    "\n",
    "요약하자면, 온도가 높을수록 모델의 출력은 좀 더 무작위적입니다. 온도가 높을수록 어시스턴트가 더 산만해지지만 더 창의적일 수 있다고 생각하시면 됩니다. 다음 동영상에서는 채팅 완료 엔드포인트 형식과 이 형식을 사용하여 사용자 지정 챗봇을 만드는 방법에 대해 자세히 설명하겠습니다."
   ]
  }
 ],
 "metadata": {
  "language_info": {
   "name": "python"
  },
  "orig_nbformat": 4
 },
 "nbformat": 4,
 "nbformat_minor": 2
}
