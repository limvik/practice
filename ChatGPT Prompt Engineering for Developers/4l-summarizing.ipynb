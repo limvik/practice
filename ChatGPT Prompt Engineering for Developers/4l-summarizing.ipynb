{
 "cells": [
  {
   "attachments": {},
   "cell_type": "markdown",
   "metadata": {},
   "source": [
    "# Summarizing\n",
    "In this lesson, you will summarize text with a focus on specific topics.\n",
    "\n",
    "There's so much text in today's world, pretty much none of us have enough time to read all the things we wish we had time to. So one of the most exciting applications I've seen of large language models is to use it to summarise text. And this is something that I'm seeing multiple teams build into multiple software applications. You can do this in the Chat GPT web Interface.\n",
    "\n",
    "오늘날 세상에는 텍스트가 너무 많아서 시간이 있어도 모든 텍스트를 읽을 시간이 있는 사람은 거의 없습니다. 그래서 제가 본 대규모 언어 모델 중 가장 흥미로운 활용 사례 중 하나는 텍스트를 요약하는 데 사용하는 것입니다. 그리고 여러 팀에서 여러 소프트웨어 애플리케이션에 이 기능을 탑재하는 것을 보고 있습니다. Chat GPT 웹 인터페이스에서 이 작업을 수행할 수 있습니다.\n",
    "\n",
    "I do this all the time to summarise articles so I can just kind of read the content of many more articles than I previously could. And if you want to do this more programmatically, you'll see how to in this lesson.\n",
    "\n",
    "저는 항상 기사를 요약하기 위해 이 작업을 수행하므로 이전보다 더 많은 기사의 내용을 쉽게 읽을 수 있습니다. 이 작업을 좀 더 프로그래밍적으로 하고 싶다면 이 강의에서 그 방법을 알아보세요.\n",
    "\n",
    "So with that, let's dig into the code to see how you could use this yourself to summarise text.\n",
    "\n",
    "이제 코드를 자세히 살펴보고 이 코드를 직접 사용하여 텍스트를 요약하는 방법을 알아봅시다. \n",
    "\n",
    "## Setup\n",
    "\n",
    "So let's start off with the same starter code as you saw before of import OpenAI, load the API key and here's that getCompletion helper function. \n",
    "\n",
    "이제 앞에서 본 것과 동일한 시작 코드로 시작하여 OpenAI를 가져오고, API 키를 로드하고, 여기에 getCompletion 헬퍼 함수가 있습니다. "
   ]
  },
  {
   "cell_type": "code",
   "execution_count": null,
   "metadata": {},
   "outputs": [],
   "source": [
    "import openai\n",
    "import os\n",
    "\n",
    "from dotenv import load_dotenv, find_dotenv\n",
    "_ = load_dotenv(find_dotenv()) # read local .env file\n",
    "\n",
    "openai.api_key  = os.getenv('OPENAI_API_KEY')"
   ]
  },
  {
   "cell_type": "code",
   "execution_count": null,
   "metadata": {},
   "outputs": [],
   "source": [
    "def get_completion(prompt, model=\"gpt-3.5-turbo\"): # Andrew mentioned that the prompt/ completion paradigm is preferable for this class\n",
    "    messages = [{\"role\": \"user\", \"content\": prompt}]\n",
    "    response = openai.ChatCompletion.create(\n",
    "        model=model,\n",
    "        messages=messages,\n",
    "        temperature=0, # this is the degree of randomness of the model's output\n",
    "    )\n",
    "    return response.choices[0].message[\"content\"]"
   ]
  },
  {
   "attachments": {},
   "cell_type": "markdown",
   "metadata": {},
   "source": [
    "## Text to summarize\n",
    "\n",
    "I'm going to use as the running example, the task of summarising this product review. Got this panda plush toy from a daughter's birthday who loves it and takes it everywhere and so on and so on.\n",
    "\n",
    "이 제품 리뷰를 요약하는 작업을 실행 예로 사용하겠습니다. 딸의 생일 선물로 받은 팬더 봉제 인형을 좋아해서 어디든 가지고 다니며 갖고 노는 아이입니다.\n",
    "\n",
    "If you're building an e-commerce website and there's just a large volume of reviews, having a tool to summarise the lengthy reviews could give you a way to very quickly glance over more reviews to get a better sense of what all your customers are thinking.\n",
    "\n",
    "이커머스 웹사이트를 구축 중인데 리뷰가 너무 많은 경우, 긴 리뷰를 요약하는 도구가 있으면 더 많은 리뷰를 빠르게 살펴보고 모든 고객의 생각을 더 잘 파악할 수 있습니다."
   ]
  },
  {
   "cell_type": "code",
   "execution_count": null,
   "metadata": {},
   "outputs": [],
   "source": [
    "prod_review = \"\"\"\n",
    "Got this panda plush toy for my daughter's birthday, \\\n",
    "who loves it and takes it everywhere. It's soft and \\ \n",
    "super cute, and its face has a friendly look. It's \\ \n",
    "a bit small for what I paid though. I think there \\ \n",
    "might be other options that are bigger for the \\ \n",
    "same price. It arrived a day earlier than expected, \\ \n",
    "so I got to play with it myself before I gave it \\ \n",
    "to her.\n",
    "\"\"\""
   ]
  },
  {
   "attachments": {},
   "cell_type": "markdown",
   "metadata": {},
   "source": [
    "## Summarize with a word/sentence/character limit\n",
    "\n",
    "So here's a prompt for generating a summary. Your task is to generate a short summary of a product review from e-commerce websites, summarise the review below and so on in at most 30 words.\n",
    "\n",
    "다음은 요약을 생성하라는 메시지입니다. 여러분의 임무는 전자상거래 웹사이트의 제품 리뷰에 대한 짧은 요약을 생성하고, 아래 리뷰 등을 최대 30단어로 요약하는 것입니다."
   ]
  },
  {
   "cell_type": "code",
   "execution_count": null,
   "metadata": {},
   "outputs": [],
   "source": [
    "prompt = f\"\"\"\n",
    "Your task is to generate a short summary of a product \\\n",
    "review from an ecommerce site. \n",
    "\n",
    "Summarize the review below, delimited by triple \n",
    "backticks, in at most 30 words. \n",
    "\n",
    "Review: ```{prod_review}```\n",
    "\"\"\"\n",
    "\n",
    "response = get_completion(prompt)\n",
    "print(response)"
   ]
  },
  {
   "attachments": {},
   "cell_type": "markdown",
   "metadata": {},
   "source": [
    "Soft and cute panda plush toy loved by daughter, but a bit small for the price. Arrived early.\n",
    "\n",
    "---"
   ]
  },
  {
   "attachments": {},
   "cell_type": "markdown",
   "metadata": {},
   "source": [
    "this is 'soft and cute panda plush toy loved by a daughter but small to the price, arrived early'. Not bad, it's \n",
    "a pretty good summary. And as you saw in the previous video, you can also play with things like controlling the character count or the number of sentences to affect the length of this summary.\n",
    "\n",
    "딸이 좋아하는 부드럽고 귀여운 팬더 봉제 인형이지만 가격에 비해 작고 일찍 도착했습니다. 나쁘지 않습니다. 꽤 좋은 요약입니다. 이전 동영상에서 보셨듯이 글자 수나 문장 수를 조절하여 요약의 길이에 영향을 주는 등의 놀이를 할 수도 있습니다.\n",
    "\n",
    "## Summarize with a focus on shipping and delivery\n",
    "\n",
    "Now, sometimes when creating a summary, if you have a very specific purpose in mind for the summary, for example, if you want to give feedback to the shipping department, you can also modify the prompt to reflect that so that it can generate a summary that is more applicable to one particular group in your business.\n",
    "\n",
    "이제 요약을 만들 때 배송 부서에 피드백을 제공하려는 경우와 같이 요약을 염두에 두고 있는 매우 구체적인 목적이 있는 경우에는 프롬프트를 수정하여 비즈니스의 특정 그룹에 더 적합한 요약을 생성할 수 있도록 해당 내용을 반영할 수도 있습니다.\n",
    "\n",
    "So, for example, if I add to give feedback to the shipping department, let's say I change this to start to focus on any aspects that mention. shipping and delivery of the product. And if I run this, then again, you get a summary, but instead of starting off with Soft and Cute Panda Plush Toy, it now focuses on the fact that it arrived a day earlier than expected. And then it still has, you know, other details.\n",
    "\n",
    "예를 들어 배송 부서에 피드백을 제공하기 위해 추가한 경우, 제품의 배송 및 배송에 대해 언급하는 모든 측면에 초점을 맞추도록 변경한다고 가정해 보겠습니다. 이 기능을 실행하면 다시 요약이 표시되지만 '부드럽고 귀여운 팬더 봉제 인형'으로 시작하는 대신 이제 예상보다 하루 일찍 도착했다는 사실에 초점을 맞추고 있습니다. 그리고 다른 세부 정보도 여전히 있습니다. "
   ]
  },
  {
   "cell_type": "code",
   "execution_count": null,
   "metadata": {},
   "outputs": [],
   "source": [
    "prompt = f\"\"\"\n",
    "Your task is to generate a short summary of a product \\\n",
    "review from an ecommerce site to give feedback to the \\\n",
    "Shipping deparmtment. \n",
    "\n",
    "Summarize the review below, delimited by triple \n",
    "backticks, in at most 30 words, and focusing on any aspects \\\n",
    "that mention shipping and delivery of the product. \n",
    "\n",
    "Review: ```{prod_review}```\n",
    "\"\"\"\n",
    "\n",
    "response = get_completion(prompt)\n",
    "print(response)"
   ]
  },
  {
   "attachments": {},
   "cell_type": "markdown",
   "metadata": {},
   "source": [
    "The panda plush toy arrived a day earlier than expected, but the customer felt it was a bit small for the price paid.\n",
    "\n",
    "---"
   ]
  },
  {
   "attachments": {},
   "cell_type": "markdown",
   "metadata": {},
   "source": [
    "Or as another example, if we aren't trying to give feedback to the shipping department, but let's say we want to give feedback to the pricing department.\n",
    "\n",
    "또는 다른 예로 배송 부서에 피드백을 제공하려는 것이 아니라 가격 책정 부서에 피드백을 제공하려는 경우라고 가정해 보겠습니다.\n",
    "\n",
    "## Summarize with a focus on price and value\n",
    "\n",
    "So the pricing department is responsible for determining the price of the product. And I'm going to tell it to focus on any aspects that are relevant to the price and perceived value. Then this generates a different summary that says maybe the price may be too high for its size.\n",
    "\n",
    "따라서 가격 책정 부서는 제품 가격을 결정할 책임이 있습니다. 그리고 가격 및 인지된 가치와 관련된 모든 측면에 집중하라고 지시할 것입니다. 그러면 크기에 비해 가격이 너무 높을 수 있다는 다른 요약이 생성됩니다."
   ]
  },
  {
   "cell_type": "code",
   "execution_count": null,
   "metadata": {},
   "outputs": [],
   "source": [
    "prompt = f\"\"\"\n",
    "Your task is to generate a short summary of a product \\\n",
    "review from an ecommerce site to give feedback to the \\\n",
    "pricing deparmtment, responsible for determining the \\\n",
    "price of the product.  \n",
    "\n",
    "Summarize the review below, delimited by triple \n",
    "backticks, in at most 30 words, and focusing on any aspects \\\n",
    "that are relevant to the price and perceived value. \n",
    "\n",
    "Review: ```{prod_review}```\n",
    "\"\"\"\n",
    "\n",
    "response = get_completion(prompt)\n",
    "print(response)"
   ]
  },
  {
   "attachments": {},
   "cell_type": "markdown",
   "metadata": {},
   "source": [
    "The panda plush toy is soft, cute, and loved by the recipient, but the price may be too high for its size.\n",
    "\n",
    "---"
   ]
  },
  {
   "attachments": {},
   "cell_type": "markdown",
   "metadata": {},
   "source": [
    "Now, in the summaries that I've generated for the shipping department or the pricing department, it focuses a bit more on information relevant to those specific departments.\n",
    "\n",
    "이제 배송 부서나 가격 책정 부서를 위해 생성한 요약에서는 해당 특정 부서와 관련된 정보에 좀 더 중점을 둡니다.\n",
    "\n",
    "And in fact, feel free to pause the video now and maybe ask it to generate information for the product department responsible for the customer experience of the product. Or for something else that you think might be related to an e-commerce site.\n",
    "\n",
    "지금 동영상을 일시 중지하고 제품의 고객 경험을 담당하는 제품 부서에 필요한 정보를 생성하도록 요청해 보세요. 또는 이커머스 사이트와 관련이 있다고 생각되는 다른 정보를 생성해 달라고 요청할 수도 있습니다. \n",
    "\n",
    "But in these summaries, even though it generated the information relevant to shipping, it had some other information too, which you could decide may or may not be hopeful. So depending on how you want to summarize it, you can also ask it to extract information rather than summarize it.\n",
    "\n",
    "그러나 이 요약에서는 배송과 관련된 정보를 생성했지만 다른 정보도 포함되어 있어 희망적일 수도 있고 아닐 수도 있습니다. 따라서 요약하려는 방식에 따라 요약 대신 정보를 추출하도록 요청할 수도 있습니다.\n",
    "\n",
    "#### Comment\n",
    "- Summaries include topics that are not related to the topic of focus.\n",
    "- 요약에는 핵심 주제와 관련이 없는 주제가 포함됩니다.\n",
    "\n",
    "## Try \"extract\" instead of \"summarize\"\n",
    "\n",
    "So here's a prompt that says you're tasked to extract relevant information to give feedback to the shipping department. And now it just says product arrived the day earlier than expected without all of the other information, which was also hopeful in the general summary, but less specific to the shipping department if all it wants to know is what happened with the shipping.\n",
    "\n",
    "배송 부서에 피드백을 제공하기 위해 관련 정보를 추출해야 한다는 '프롬프트'가 있습니다. 이제 다른 모든 정보 없이 제품이 예상보다 하루 일찍 도착했다고만 표시되는데, 일반적인 요약에서는 바람직한 정보이지만 배송 부서에서 알고 싶은 것은 배송에 무슨 일이 있었는지에 대한 구체적인 정보가 부족합니다."
   ]
  },
  {
   "cell_type": "code",
   "execution_count": null,
   "metadata": {},
   "outputs": [],
   "source": [
    "prompt = f\"\"\"\n",
    "Your task is to extract relevant information from \\ \n",
    "a product review from an ecommerce site to give \\\n",
    "feedback to the Shipping department. \n",
    "\n",
    "From the review below, delimited by triple quotes \\\n",
    "extract the information relevant to shipping and \\ \n",
    "delivery. Limit to 30 words. \n",
    "\n",
    "Review: ```{prod_review}```\n",
    "\"\"\"\n",
    "\n",
    "response = get_completion(prompt)\n",
    "print(response)"
   ]
  },
  {
   "attachments": {},
   "cell_type": "markdown",
   "metadata": {},
   "source": [
    "The product arrived a day earlier than expected.\n",
    "\n",
    "---"
   ]
  },
  {
   "attachments": {},
   "cell_type": "markdown",
   "metadata": {},
   "source": [
    "Lastly, let me just share with you a concrete example for how to use this in a workflow to help summarize multiple reviews to make them easier to read.\n",
    "\n",
    "마지막으로, 워크플로에서 이 기능을 사용하여 여러 리뷰를 읽기 쉽게 요약하는 방법에 대한 구체적인 예를 공유하겠습니다. \n",
    "\n",
    "## Summarize multiple product reviews\n",
    "\n",
    "So, here are a few reviews. This is kind of long, but you know, here's the second review for a standing lamp, needle lamp on the bedroom. Here's the third review for an electric toothbrush. My dental hygienist recommended it. Kind of a long review about an electric toothbrush. This is a review for a blender when they said, so, so that \n",
    "17 piece system on seasonal sale and so on and so on.\n",
    "\n",
    "여기 몇 가지 리뷰가 있습니다. 좀 길지만 다음은 침실에 두는 스탠딩 램프, 니들 램프에 대한 두 번째 리뷰입니다. 다음은 전동 칫솔에 대한 세 번째 리뷰입니다. 제 치과 위생사가 추천했습니다. 전동 칫솔에 대한 긴 리뷰입니다. 다음은 믹서기 리뷰인데, 시즌 세일에 17개입 시스템 등등을 말하면서 믹서기에 대한 리뷰입니다.\n",
    "\n",
    "This is actually a lot of text. If you want, feel free to pause the video and read through all this text. But what if you want to know what these reviewers wrote without having to stop and read all this in detail. So I'm going to set review 1 to be just the product review that we had up there.\n",
    "\n",
    "실제로 많은 텍스트가 있습니다. 원하신다면 동영상을 잠시 멈추고 이 모든 텍스트를 읽어보세요. 하지만 이 모든 내용을 자세히 읽지 않고도 리뷰어가 작성한 내용을 알고 싶으시다면 어떻게 해야 할까요? 그래서 리뷰 1은 위에 있는 제품 리뷰로만 설정하겠습니다.\n",
    "\n",
    "And I'm going to put all of these reviews into a list. And now if I implement a for loop over the reviews. So here's my prompt and here I've asked it to summarize it in at most 20 words. Then let's have it get the response and print it out. And let's run that. \n",
    "\n",
    "그리고 이 모든 리뷰를 목록에 넣겠습니다. 이제 리뷰에 대해 for 루프를 구현하면 됩니다. 여기에 프롬프트가 있고 여기에 최대 20단어로 요약하도록 요청했습니다. 그런 다음 응답을 가져와서 인쇄하도록 하겠습니다. 그리고 실행해 봅시다. "
   ]
  },
  {
   "cell_type": "code",
   "execution_count": null,
   "metadata": {},
   "outputs": [],
   "source": [
    "review_1 = prod_review \n",
    "\n",
    "# review for a standing lamp\n",
    "review_2 = \"\"\"\n",
    "Needed a nice lamp for my bedroom, and this one \\\n",
    "had additional storage and not too high of a price \\\n",
    "point. Got it fast - arrived in 2 days. The string \\\n",
    "to the lamp broke during the transit and the company \\\n",
    "happily sent over a new one. Came within a few days \\\n",
    "as well. It was easy to put together. Then I had a \\\n",
    "missing part, so I contacted their support and they \\\n",
    "very quickly got me the missing piece! Seems to me \\\n",
    "to be a great company that cares about their customers \\\n",
    "and products. \n",
    "\"\"\"\n",
    "\n",
    "# review for an electric toothbrush\n",
    "review_3 = \"\"\"\n",
    "My dental hygienist recommended an electric toothbrush, \\\n",
    "which is why I got this. The battery life seems to be \\\n",
    "pretty impressive so far. After initial charging and \\\n",
    "leaving the charger plugged in for the first week to \\\n",
    "condition the battery, I've unplugged the charger and \\\n",
    "been using it for twice daily brushing for the last \\\n",
    "3 weeks all on the same charge. But the toothbrush head \\\n",
    "is too small. I’ve seen baby toothbrushes bigger than \\\n",
    "this one. I wish the head was bigger with different \\\n",
    "length bristles to get between teeth better because \\\n",
    "this one doesn’t.  Overall if you can get this one \\\n",
    "around the $50 mark, it's a good deal. The manufactuer's \\\n",
    "replacements heads are pretty expensive, but you can \\\n",
    "get generic ones that're more reasonably priced. This \\\n",
    "toothbrush makes me feel like I've been to the dentist \\\n",
    "every day. My teeth feel sparkly clean! \n",
    "\"\"\"\n",
    "\n",
    "# review for a blender\n",
    "review_4 = \"\"\"\n",
    "So, they still had the 17 piece system on seasonal \\\n",
    "sale for around $49 in the month of November, about \\\n",
    "half off, but for some reason (call it price gouging) \\\n",
    "around the second week of December the prices all went \\\n",
    "up to about anywhere from between $70-$89 for the same \\\n",
    "system. And the 11 piece system went up around $10 or \\\n",
    "so in price also from the earlier sale price of $29. \\\n",
    "So it looks okay, but if you look at the base, the part \\\n",
    "where the blade locks into place doesn’t look as good \\\n",
    "as in previous editions from a few years ago, but I \\\n",
    "plan to be very gentle with it (example, I crush \\\n",
    "very hard items like beans, ice, rice, etc. in the \\ \n",
    "blender first then pulverize them in the serving size \\\n",
    "I want in the blender then switch to the whipping \\\n",
    "blade for a finer flour, and use the cross cutting blade \\\n",
    "first when making smoothies, then use the flat blade \\\n",
    "if I need them finer/less pulpy). Special tip when making \\\n",
    "smoothies, finely cut and freeze the fruits and \\\n",
    "vegetables (if using spinach-lightly stew soften the \\ \n",
    "spinach then freeze until ready for use-and if making \\\n",
    "sorbet, use a small to medium sized food processor) \\ \n",
    "that you plan to use that way you can avoid adding so \\\n",
    "much ice if at all-when making your smoothie. \\\n",
    "After about a year, the motor was making a funny noise. \\\n",
    "I called customer service but the warranty expired \\\n",
    "already, so I had to buy another one. FYI: The overall \\\n",
    "quality has gone done in these types of products, so \\\n",
    "they are kind of counting on brand recognition and \\\n",
    "consumer loyalty to maintain sales. Got it in about \\\n",
    "two days.\n",
    "\"\"\"\n",
    "\n",
    "reviews = [review_1, review_2, review_3, review_4]\n"
   ]
  },
  {
   "cell_type": "code",
   "execution_count": null,
   "metadata": {},
   "outputs": [],
   "source": [
    "for i in range(len(reviews)):\n",
    "    prompt = f\"\"\"\n",
    "    Your task is to generate a short summary of a product \\ \n",
    "    review from an ecommerce site. \n",
    "\n",
    "    Summarize the review below, delimited by triple \\\n",
    "    backticks in at most 20 words. \n",
    "\n",
    "    Review: ```{reviews[i]}```\n",
    "    \"\"\"\n",
    "\n",
    "    response = get_completion(prompt)\n",
    "    print(i, response, \"\\n\")"
   ]
  },
  {
   "attachments": {},
   "cell_type": "markdown",
   "metadata": {},
   "source": [
    "0 Soft and cute panda plush toy loved by daughter, but a bit small for the price. Arrived early. \n",
    "\n",
    "1 Affordable lamp with storage, fast shipping, and excellent customer service. Easy to assemble and missing parts were quickly replaced. \n",
    "\n",
    "2 Good battery life, small toothbrush head, but effective cleaning. Good deal if bought around $50. \n",
    "\n",
    "3 Mixed review of a blender system with price gouging and decreased quality, but helpful tips for use. \n",
    "\n",
    "---"
   ]
  },
  {
   "attachments": {},
   "cell_type": "markdown",
   "metadata": {},
   "source": [
    "And it prints out the first review was that Pantatoi review, summary review of the lamp, summary review of the toothbrush, and then the blender. And so if you have a website where you have hundreds of reviews, you can imagine how you might use this to build a dashboard to take huge numbers of reviews, generate short summaries of them so that you or someone else can browse the reviews much more quickly.\n",
    "\n",
    "첫 번째 리뷰는 판타토이 리뷰, 램프에 대한 요약 리뷰, 칫솔에 대한 요약 리뷰, 그리고 블렌더에 대한 리뷰가 인쇄됩니다. 따라서 수백 개의 리뷰가 있는 웹 사이트가 있다면 이 기능을 사용하여 대시보드를 구축하여 엄청난 수의 리뷰를 수집하고 짧은 요약을 생성하여 자신이나 다른 사람이 훨씬 더 빠르게 리뷰를 탐색할 수 있는 방법을 상상해 볼 수 있습니다. \n",
    "\n",
    "And then if they wish, maybe click in to see the original longer review. And this can help you efficiently get a better sense of what all of your customers are thinking. Right. So that's it for summarizing. And I hope that you can picture if you have any applications with many pieces of text, how you can use prompts like these to summarize them to help people quickly get a sense of what's in the text, the many pieces of text, and perhaps optionally dig in more if they wish.\n",
    "\n",
    "그리고 고객이 원한다면 클릭하여 더 긴 원본 리뷰를 볼 수도 있습니다. 이렇게 하면 모든 고객의 생각을 효율적으로 파악할 수 있습니다. 그렇군요. 여기까지 요약했습니다. 그리고 만약 텍스트가 많은 애플리케이션이 있다면 이와 같은 프롬프트를 사용하여 요약하여 사람들이 텍스트의 내용을 빠르게 파악하고, 원하는 경우 더 자세히 살펴볼 수 있도록 도울 수 있는 방법을 상상해 보셨으면 좋겠습니다.\n",
    "\n",
    "In the next video, we'll look at another capability of large language models, which is to make inferences using text. For example, what if you had, again, product reviews and you wanted to very quickly get a sense of which product reviews have a positive or a negative sentiment? Let's take a look at how to do that in the next video.\n",
    "\n",
    "다음 동영상에서는 텍스트를 사용하여 추론하는 대규모 언어 모델의 또 다른 기능에 대해 살펴보겠습니다. 예를 들어, 제품 리뷰가 있는데 어떤 제품 리뷰에 긍정적인 감정이 있는지 부정적인 감정이 있는지 매우 빠르게 파악하고 싶다고 가정해 보겠습니다. 다음 동영상에서 이를 수행하는 방법을 살펴보겠습니다."
   ]
  }
 ],
 "metadata": {
  "language_info": {
   "name": "python"
  },
  "orig_nbformat": 4
 },
 "nbformat": 4,
 "nbformat_minor": 2
}
